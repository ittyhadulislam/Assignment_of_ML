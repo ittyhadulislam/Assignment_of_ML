{
 "cells": [
  {
   "cell_type": "code",
   "execution_count": 1,
   "id": "35e6cbf7",
   "metadata": {},
   "outputs": [],
   "source": [
    "import pandas as pd\n",
    "import numpy as np\n",
    "import matplotlib.pyplot as plt\n",
    "import seaborn as sns"
   ]
  },
  {
   "cell_type": "code",
   "execution_count": 2,
   "id": "7494a1a7",
   "metadata": {},
   "outputs": [],
   "source": [
    "df = pd.read_csv(\"code.csv\")"
   ]
  },
  {
   "cell_type": "code",
   "execution_count": 3,
   "id": "fb8c966a",
   "metadata": {},
   "outputs": [
    {
     "data": {
      "text/html": [
       "<div>\n",
       "<style scoped>\n",
       "    .dataframe tbody tr th:only-of-type {\n",
       "        vertical-align: middle;\n",
       "    }\n",
       "\n",
       "    .dataframe tbody tr th {\n",
       "        vertical-align: top;\n",
       "    }\n",
       "\n",
       "    .dataframe thead th {\n",
       "        text-align: right;\n",
       "    }\n",
       "</style>\n",
       "<table border=\"1\" class=\"dataframe\">\n",
       "  <thead>\n",
       "    <tr style=\"text-align: right;\">\n",
       "      <th></th>\n",
       "      <th>ID</th>\n",
       "      <th>Age</th>\n",
       "      <th>Experience</th>\n",
       "      <th>Income</th>\n",
       "      <th>ZIP Code</th>\n",
       "      <th>Family</th>\n",
       "      <th>CCAvg</th>\n",
       "      <th>Education</th>\n",
       "      <th>Mortgage</th>\n",
       "      <th>Personal Loan</th>\n",
       "      <th>Securities Account</th>\n",
       "      <th>CD Account</th>\n",
       "      <th>Online</th>\n",
       "      <th>CreditCard</th>\n",
       "    </tr>\n",
       "  </thead>\n",
       "  <tbody>\n",
       "    <tr>\n",
       "      <th>0</th>\n",
       "      <td>1</td>\n",
       "      <td>25</td>\n",
       "      <td>1.0</td>\n",
       "      <td>49.0</td>\n",
       "      <td>91107.0</td>\n",
       "      <td>4.0</td>\n",
       "      <td>1.6</td>\n",
       "      <td>1.0</td>\n",
       "      <td>0.0</td>\n",
       "      <td>0.0</td>\n",
       "      <td>1.0</td>\n",
       "      <td>0.0</td>\n",
       "      <td>0.0</td>\n",
       "      <td>0.0</td>\n",
       "    </tr>\n",
       "    <tr>\n",
       "      <th>1</th>\n",
       "      <td>2</td>\n",
       "      <td>45</td>\n",
       "      <td>19.0</td>\n",
       "      <td>34.0</td>\n",
       "      <td>90089.0</td>\n",
       "      <td>3.0</td>\n",
       "      <td>1.5</td>\n",
       "      <td>1.0</td>\n",
       "      <td>0.0</td>\n",
       "      <td>0.0</td>\n",
       "      <td>1.0</td>\n",
       "      <td>0.0</td>\n",
       "      <td>0.0</td>\n",
       "      <td>0.0</td>\n",
       "    </tr>\n",
       "    <tr>\n",
       "      <th>2</th>\n",
       "      <td>3</td>\n",
       "      <td>39</td>\n",
       "      <td>15.0</td>\n",
       "      <td>11.0</td>\n",
       "      <td>94720.0</td>\n",
       "      <td>1.0</td>\n",
       "      <td>1.0</td>\n",
       "      <td>1.0</td>\n",
       "      <td>0.0</td>\n",
       "      <td>0.0</td>\n",
       "      <td>0.0</td>\n",
       "      <td>0.0</td>\n",
       "      <td>0.0</td>\n",
       "      <td>0.0</td>\n",
       "    </tr>\n",
       "    <tr>\n",
       "      <th>3</th>\n",
       "      <td>4</td>\n",
       "      <td>35</td>\n",
       "      <td>9.0</td>\n",
       "      <td>100.0</td>\n",
       "      <td>94112.0</td>\n",
       "      <td>1.0</td>\n",
       "      <td>2.7</td>\n",
       "      <td>2.0</td>\n",
       "      <td>0.0</td>\n",
       "      <td>0.0</td>\n",
       "      <td>0.0</td>\n",
       "      <td>0.0</td>\n",
       "      <td>0.0</td>\n",
       "      <td>0.0</td>\n",
       "    </tr>\n",
       "    <tr>\n",
       "      <th>4</th>\n",
       "      <td>5</td>\n",
       "      <td>35</td>\n",
       "      <td>8.0</td>\n",
       "      <td>45.0</td>\n",
       "      <td>91330.0</td>\n",
       "      <td>4.0</td>\n",
       "      <td>1.0</td>\n",
       "      <td>2.0</td>\n",
       "      <td>0.0</td>\n",
       "      <td>0.0</td>\n",
       "      <td>0.0</td>\n",
       "      <td>0.0</td>\n",
       "      <td>0.0</td>\n",
       "      <td>1.0</td>\n",
       "    </tr>\n",
       "    <tr>\n",
       "      <th>...</th>\n",
       "      <td>...</td>\n",
       "      <td>...</td>\n",
       "      <td>...</td>\n",
       "      <td>...</td>\n",
       "      <td>...</td>\n",
       "      <td>...</td>\n",
       "      <td>...</td>\n",
       "      <td>...</td>\n",
       "      <td>...</td>\n",
       "      <td>...</td>\n",
       "      <td>...</td>\n",
       "      <td>...</td>\n",
       "      <td>...</td>\n",
       "      <td>...</td>\n",
       "    </tr>\n",
       "    <tr>\n",
       "      <th>4996</th>\n",
       "      <td>4997</td>\n",
       "      <td>30</td>\n",
       "      <td>4.0</td>\n",
       "      <td>15.0</td>\n",
       "      <td>92037.0</td>\n",
       "      <td>4.0</td>\n",
       "      <td>0.4</td>\n",
       "      <td>1.0</td>\n",
       "      <td>85.0</td>\n",
       "      <td>0.0</td>\n",
       "      <td>0.0</td>\n",
       "      <td>0.0</td>\n",
       "      <td>1.0</td>\n",
       "      <td>0.0</td>\n",
       "    </tr>\n",
       "    <tr>\n",
       "      <th>4997</th>\n",
       "      <td>4998</td>\n",
       "      <td>63</td>\n",
       "      <td>39.0</td>\n",
       "      <td>24.0</td>\n",
       "      <td>93023.0</td>\n",
       "      <td>2.0</td>\n",
       "      <td>0.3</td>\n",
       "      <td>3.0</td>\n",
       "      <td>0.0</td>\n",
       "      <td>0.0</td>\n",
       "      <td>0.0</td>\n",
       "      <td>0.0</td>\n",
       "      <td>0.0</td>\n",
       "      <td>0.0</td>\n",
       "    </tr>\n",
       "    <tr>\n",
       "      <th>4998</th>\n",
       "      <td>4999</td>\n",
       "      <td>65</td>\n",
       "      <td>40.0</td>\n",
       "      <td>49.0</td>\n",
       "      <td>90034.0</td>\n",
       "      <td>3.0</td>\n",
       "      <td>0.5</td>\n",
       "      <td>2.0</td>\n",
       "      <td>0.0</td>\n",
       "      <td>0.0</td>\n",
       "      <td>0.0</td>\n",
       "      <td>0.0</td>\n",
       "      <td>1.0</td>\n",
       "      <td>0.0</td>\n",
       "    </tr>\n",
       "    <tr>\n",
       "      <th>4999</th>\n",
       "      <td>5000</td>\n",
       "      <td>28</td>\n",
       "      <td>4.0</td>\n",
       "      <td>83.0</td>\n",
       "      <td>92612.0</td>\n",
       "      <td>3.0</td>\n",
       "      <td>0.8</td>\n",
       "      <td>1.0</td>\n",
       "      <td>0.0</td>\n",
       "      <td>0.0</td>\n",
       "      <td>0.0</td>\n",
       "      <td>0.0</td>\n",
       "      <td>1.0</td>\n",
       "      <td>1.0</td>\n",
       "    </tr>\n",
       "    <tr>\n",
       "      <th>5000</th>\n",
       "      <td>{\"mode\":\"full\"</td>\n",
       "      <td>isActive:false}</td>\n",
       "      <td>NaN</td>\n",
       "      <td>NaN</td>\n",
       "      <td>NaN</td>\n",
       "      <td>NaN</td>\n",
       "      <td>NaN</td>\n",
       "      <td>NaN</td>\n",
       "      <td>NaN</td>\n",
       "      <td>NaN</td>\n",
       "      <td>NaN</td>\n",
       "      <td>NaN</td>\n",
       "      <td>NaN</td>\n",
       "      <td>NaN</td>\n",
       "    </tr>\n",
       "  </tbody>\n",
       "</table>\n",
       "<p>5001 rows × 14 columns</p>\n",
       "</div>"
      ],
      "text/plain": [
       "                  ID              Age  Experience  Income  ZIP Code  Family  \\\n",
       "0                  1               25         1.0    49.0   91107.0     4.0   \n",
       "1                  2               45        19.0    34.0   90089.0     3.0   \n",
       "2                  3               39        15.0    11.0   94720.0     1.0   \n",
       "3                  4               35         9.0   100.0   94112.0     1.0   \n",
       "4                  5               35         8.0    45.0   91330.0     4.0   \n",
       "...              ...              ...         ...     ...       ...     ...   \n",
       "4996            4997               30         4.0    15.0   92037.0     4.0   \n",
       "4997            4998               63        39.0    24.0   93023.0     2.0   \n",
       "4998            4999               65        40.0    49.0   90034.0     3.0   \n",
       "4999            5000               28         4.0    83.0   92612.0     3.0   \n",
       "5000  {\"mode\":\"full\"  isActive:false}         NaN     NaN       NaN     NaN   \n",
       "\n",
       "      CCAvg  Education  Mortgage  Personal Loan  Securities Account  \\\n",
       "0       1.6        1.0       0.0            0.0                 1.0   \n",
       "1       1.5        1.0       0.0            0.0                 1.0   \n",
       "2       1.0        1.0       0.0            0.0                 0.0   \n",
       "3       2.7        2.0       0.0            0.0                 0.0   \n",
       "4       1.0        2.0       0.0            0.0                 0.0   \n",
       "...     ...        ...       ...            ...                 ...   \n",
       "4996    0.4        1.0      85.0            0.0                 0.0   \n",
       "4997    0.3        3.0       0.0            0.0                 0.0   \n",
       "4998    0.5        2.0       0.0            0.0                 0.0   \n",
       "4999    0.8        1.0       0.0            0.0                 0.0   \n",
       "5000    NaN        NaN       NaN            NaN                 NaN   \n",
       "\n",
       "      CD Account  Online  CreditCard  \n",
       "0            0.0     0.0         0.0  \n",
       "1            0.0     0.0         0.0  \n",
       "2            0.0     0.0         0.0  \n",
       "3            0.0     0.0         0.0  \n",
       "4            0.0     0.0         1.0  \n",
       "...          ...     ...         ...  \n",
       "4996         0.0     1.0         0.0  \n",
       "4997         0.0     0.0         0.0  \n",
       "4998         0.0     1.0         0.0  \n",
       "4999         0.0     1.0         1.0  \n",
       "5000         NaN     NaN         NaN  \n",
       "\n",
       "[5001 rows x 14 columns]"
      ]
     },
     "execution_count": 3,
     "metadata": {},
     "output_type": "execute_result"
    }
   ],
   "source": [
    "df"
   ]
  },
  {
   "cell_type": "code",
   "execution_count": 4,
   "id": "f206e59f",
   "metadata": {
    "scrolled": false
   },
   "outputs": [
    {
     "data": {
      "text/html": [
       "<div>\n",
       "<style scoped>\n",
       "    .dataframe tbody tr th:only-of-type {\n",
       "        vertical-align: middle;\n",
       "    }\n",
       "\n",
       "    .dataframe tbody tr th {\n",
       "        vertical-align: top;\n",
       "    }\n",
       "\n",
       "    .dataframe thead th {\n",
       "        text-align: right;\n",
       "    }\n",
       "</style>\n",
       "<table border=\"1\" class=\"dataframe\">\n",
       "  <thead>\n",
       "    <tr style=\"text-align: right;\">\n",
       "      <th></th>\n",
       "      <th>Experience</th>\n",
       "      <th>Income</th>\n",
       "      <th>ZIP Code</th>\n",
       "      <th>Family</th>\n",
       "      <th>CCAvg</th>\n",
       "      <th>Education</th>\n",
       "      <th>Mortgage</th>\n",
       "      <th>Personal Loan</th>\n",
       "      <th>Securities Account</th>\n",
       "      <th>CD Account</th>\n",
       "      <th>Online</th>\n",
       "      <th>CreditCard</th>\n",
       "    </tr>\n",
       "  </thead>\n",
       "  <tbody>\n",
       "    <tr>\n",
       "      <th>count</th>\n",
       "      <td>5000.000000</td>\n",
       "      <td>5000.000000</td>\n",
       "      <td>5000.000000</td>\n",
       "      <td>5000.000000</td>\n",
       "      <td>5000.000000</td>\n",
       "      <td>5000.000000</td>\n",
       "      <td>5000.000000</td>\n",
       "      <td>5000.000000</td>\n",
       "      <td>5000.000000</td>\n",
       "      <td>5000.00000</td>\n",
       "      <td>5000.000000</td>\n",
       "      <td>5000.000000</td>\n",
       "    </tr>\n",
       "    <tr>\n",
       "      <th>mean</th>\n",
       "      <td>20.104600</td>\n",
       "      <td>73.774200</td>\n",
       "      <td>93152.503000</td>\n",
       "      <td>2.396400</td>\n",
       "      <td>1.937938</td>\n",
       "      <td>1.881000</td>\n",
       "      <td>56.498800</td>\n",
       "      <td>0.096000</td>\n",
       "      <td>0.104400</td>\n",
       "      <td>0.06040</td>\n",
       "      <td>0.596800</td>\n",
       "      <td>0.294000</td>\n",
       "    </tr>\n",
       "    <tr>\n",
       "      <th>std</th>\n",
       "      <td>11.467954</td>\n",
       "      <td>46.033729</td>\n",
       "      <td>2121.852197</td>\n",
       "      <td>1.147663</td>\n",
       "      <td>1.747659</td>\n",
       "      <td>0.839869</td>\n",
       "      <td>101.713802</td>\n",
       "      <td>0.294621</td>\n",
       "      <td>0.305809</td>\n",
       "      <td>0.23825</td>\n",
       "      <td>0.490589</td>\n",
       "      <td>0.455637</td>\n",
       "    </tr>\n",
       "    <tr>\n",
       "      <th>min</th>\n",
       "      <td>-3.000000</td>\n",
       "      <td>8.000000</td>\n",
       "      <td>9307.000000</td>\n",
       "      <td>1.000000</td>\n",
       "      <td>0.000000</td>\n",
       "      <td>1.000000</td>\n",
       "      <td>0.000000</td>\n",
       "      <td>0.000000</td>\n",
       "      <td>0.000000</td>\n",
       "      <td>0.00000</td>\n",
       "      <td>0.000000</td>\n",
       "      <td>0.000000</td>\n",
       "    </tr>\n",
       "    <tr>\n",
       "      <th>25%</th>\n",
       "      <td>10.000000</td>\n",
       "      <td>39.000000</td>\n",
       "      <td>91911.000000</td>\n",
       "      <td>1.000000</td>\n",
       "      <td>0.700000</td>\n",
       "      <td>1.000000</td>\n",
       "      <td>0.000000</td>\n",
       "      <td>0.000000</td>\n",
       "      <td>0.000000</td>\n",
       "      <td>0.00000</td>\n",
       "      <td>0.000000</td>\n",
       "      <td>0.000000</td>\n",
       "    </tr>\n",
       "    <tr>\n",
       "      <th>50%</th>\n",
       "      <td>20.000000</td>\n",
       "      <td>64.000000</td>\n",
       "      <td>93437.000000</td>\n",
       "      <td>2.000000</td>\n",
       "      <td>1.500000</td>\n",
       "      <td>2.000000</td>\n",
       "      <td>0.000000</td>\n",
       "      <td>0.000000</td>\n",
       "      <td>0.000000</td>\n",
       "      <td>0.00000</td>\n",
       "      <td>1.000000</td>\n",
       "      <td>0.000000</td>\n",
       "    </tr>\n",
       "    <tr>\n",
       "      <th>75%</th>\n",
       "      <td>30.000000</td>\n",
       "      <td>98.000000</td>\n",
       "      <td>94608.000000</td>\n",
       "      <td>3.000000</td>\n",
       "      <td>2.500000</td>\n",
       "      <td>3.000000</td>\n",
       "      <td>101.000000</td>\n",
       "      <td>0.000000</td>\n",
       "      <td>0.000000</td>\n",
       "      <td>0.00000</td>\n",
       "      <td>1.000000</td>\n",
       "      <td>1.000000</td>\n",
       "    </tr>\n",
       "    <tr>\n",
       "      <th>max</th>\n",
       "      <td>43.000000</td>\n",
       "      <td>224.000000</td>\n",
       "      <td>96651.000000</td>\n",
       "      <td>4.000000</td>\n",
       "      <td>10.000000</td>\n",
       "      <td>3.000000</td>\n",
       "      <td>635.000000</td>\n",
       "      <td>1.000000</td>\n",
       "      <td>1.000000</td>\n",
       "      <td>1.00000</td>\n",
       "      <td>1.000000</td>\n",
       "      <td>1.000000</td>\n",
       "    </tr>\n",
       "  </tbody>\n",
       "</table>\n",
       "</div>"
      ],
      "text/plain": [
       "        Experience       Income      ZIP Code       Family        CCAvg  \\\n",
       "count  5000.000000  5000.000000   5000.000000  5000.000000  5000.000000   \n",
       "mean     20.104600    73.774200  93152.503000     2.396400     1.937938   \n",
       "std      11.467954    46.033729   2121.852197     1.147663     1.747659   \n",
       "min      -3.000000     8.000000   9307.000000     1.000000     0.000000   \n",
       "25%      10.000000    39.000000  91911.000000     1.000000     0.700000   \n",
       "50%      20.000000    64.000000  93437.000000     2.000000     1.500000   \n",
       "75%      30.000000    98.000000  94608.000000     3.000000     2.500000   \n",
       "max      43.000000   224.000000  96651.000000     4.000000    10.000000   \n",
       "\n",
       "         Education     Mortgage  Personal Loan  Securities Account  \\\n",
       "count  5000.000000  5000.000000    5000.000000         5000.000000   \n",
       "mean      1.881000    56.498800       0.096000            0.104400   \n",
       "std       0.839869   101.713802       0.294621            0.305809   \n",
       "min       1.000000     0.000000       0.000000            0.000000   \n",
       "25%       1.000000     0.000000       0.000000            0.000000   \n",
       "50%       2.000000     0.000000       0.000000            0.000000   \n",
       "75%       3.000000   101.000000       0.000000            0.000000   \n",
       "max       3.000000   635.000000       1.000000            1.000000   \n",
       "\n",
       "       CD Account       Online   CreditCard  \n",
       "count  5000.00000  5000.000000  5000.000000  \n",
       "mean      0.06040     0.596800     0.294000  \n",
       "std       0.23825     0.490589     0.455637  \n",
       "min       0.00000     0.000000     0.000000  \n",
       "25%       0.00000     0.000000     0.000000  \n",
       "50%       0.00000     1.000000     0.000000  \n",
       "75%       0.00000     1.000000     1.000000  \n",
       "max       1.00000     1.000000     1.000000  "
      ]
     },
     "execution_count": 4,
     "metadata": {},
     "output_type": "execute_result"
    }
   ],
   "source": [
    "df.describe()"
   ]
  },
  {
   "cell_type": "markdown",
   "id": "267d40a6",
   "metadata": {},
   "source": [
    "# AGE"
   ]
  },
  {
   "cell_type": "code",
   "execution_count": 5,
   "id": "2f5760d5",
   "metadata": {},
   "outputs": [
    {
     "data": {
      "text/html": [
       "<div>\n",
       "<style scoped>\n",
       "    .dataframe tbody tr th:only-of-type {\n",
       "        vertical-align: middle;\n",
       "    }\n",
       "\n",
       "    .dataframe tbody tr th {\n",
       "        vertical-align: top;\n",
       "    }\n",
       "\n",
       "    .dataframe thead th {\n",
       "        text-align: right;\n",
       "    }\n",
       "</style>\n",
       "<table border=\"1\" class=\"dataframe\">\n",
       "  <thead>\n",
       "    <tr style=\"text-align: right;\">\n",
       "      <th></th>\n",
       "      <th>ID</th>\n",
       "      <th>Age</th>\n",
       "      <th>Experience</th>\n",
       "      <th>Income</th>\n",
       "      <th>ZIP Code</th>\n",
       "      <th>Family</th>\n",
       "      <th>CCAvg</th>\n",
       "      <th>Education</th>\n",
       "      <th>Mortgage</th>\n",
       "      <th>Personal Loan</th>\n",
       "      <th>Securities Account</th>\n",
       "      <th>CD Account</th>\n",
       "      <th>Online</th>\n",
       "      <th>CreditCard</th>\n",
       "    </tr>\n",
       "  </thead>\n",
       "  <tbody>\n",
       "    <tr>\n",
       "      <th>5000</th>\n",
       "      <td>{\"mode\":\"full\"</td>\n",
       "      <td>isActive:false}</td>\n",
       "      <td>NaN</td>\n",
       "      <td>NaN</td>\n",
       "      <td>NaN</td>\n",
       "      <td>NaN</td>\n",
       "      <td>NaN</td>\n",
       "      <td>NaN</td>\n",
       "      <td>NaN</td>\n",
       "      <td>NaN</td>\n",
       "      <td>NaN</td>\n",
       "      <td>NaN</td>\n",
       "      <td>NaN</td>\n",
       "      <td>NaN</td>\n",
       "    </tr>\n",
       "  </tbody>\n",
       "</table>\n",
       "</div>"
      ],
      "text/plain": [
       "                  ID              Age  Experience  Income  ZIP Code  Family  \\\n",
       "5000  {\"mode\":\"full\"  isActive:false}         NaN     NaN       NaN     NaN   \n",
       "\n",
       "      CCAvg  Education  Mortgage  Personal Loan  Securities Account  \\\n",
       "5000    NaN        NaN       NaN            NaN                 NaN   \n",
       "\n",
       "      CD Account  Online  CreditCard  \n",
       "5000         NaN     NaN         NaN  "
      ]
     },
     "execution_count": 5,
     "metadata": {},
     "output_type": "execute_result"
    }
   ],
   "source": [
    "df.loc[pd.to_numeric(df.Age, errors = \"coerce\").isna()]"
   ]
  },
  {
   "cell_type": "code",
   "execution_count": 6,
   "id": "797fd016",
   "metadata": {},
   "outputs": [],
   "source": [
    "df = df.drop([5000]) "
   ]
  },
  {
   "cell_type": "code",
   "execution_count": null,
   "id": "f76bb4d6",
   "metadata": {},
   "outputs": [],
   "source": [
    "df.info()"
   ]
  },
  {
   "cell_type": "code",
   "execution_count": null,
   "id": "eaf480a9",
   "metadata": {},
   "outputs": [],
   "source": [
    "df[\"Age\"] = df.Age.astype(int)"
   ]
  },
  {
   "cell_type": "code",
   "execution_count": null,
   "id": "d15c46ee",
   "metadata": {},
   "outputs": [],
   "source": [
    "df.info()"
   ]
  },
  {
   "cell_type": "code",
   "execution_count": null,
   "id": "86f31af0",
   "metadata": {},
   "outputs": [],
   "source": [
    "plt.figure(figsize=(15, 10))\n",
    "sns.countplot(x = \"Age\", data = df)"
   ]
  },
  {
   "cell_type": "code",
   "execution_count": null,
   "id": "1578c0b6",
   "metadata": {},
   "outputs": [],
   "source": [
    "age_mean = df.Age.mean()\n",
    "age_median = df.Age.median()"
   ]
  },
  {
   "cell_type": "code",
   "execution_count": null,
   "id": "0ac984eb",
   "metadata": {},
   "outputs": [],
   "source": [
    "print(\"Age Mean = \", age_mean)\n",
    "print(\"Age Median = \", age_median)"
   ]
  },
  {
   "cell_type": "code",
   "execution_count": null,
   "id": "9084213d",
   "metadata": {},
   "outputs": [],
   "source": [
    "mean_median_age_dataset = pd.DataFrame({\"Strategy\" : [\"Mean\", \"Median\"], \"Values\" : [age_mean, age_median]})"
   ]
  },
  {
   "cell_type": "code",
   "execution_count": null,
   "id": "438bb05f",
   "metadata": {},
   "outputs": [],
   "source": [
    "mean_median_age_dataset"
   ]
  },
  {
   "cell_type": "code",
   "execution_count": null,
   "id": "61454776",
   "metadata": {},
   "outputs": [],
   "source": [
    "mean_median_age_dataset.plot(x = \"Strategy\", y = \"Values\", kind = \"bar\")"
   ]
  },
  {
   "cell_type": "code",
   "execution_count": null,
   "id": "3236b0f7",
   "metadata": {},
   "outputs": [],
   "source": [
    "sns.histplot(x = \"Age\", data = df, kde = True)"
   ]
  },
  {
   "cell_type": "code",
   "execution_count": null,
   "id": "9cf5db45",
   "metadata": {},
   "outputs": [],
   "source": [
    "sns.kdeplot(x = \"Age\", data = df)"
   ]
  },
  {
   "cell_type": "code",
   "execution_count": null,
   "id": "eb6bfcab",
   "metadata": {},
   "outputs": [],
   "source": [
    "df.loc[df[\"Age\"] <= 35, \"Age\"] = 1\n",
    "df.loc[(df[\"Age\"] > 35) & (df[\"Age\"] <= 55), \"Age\"] = 2\n",
    "df.loc[df[\"Age\"] > 55, \"Age\"] = 3"
   ]
  },
  {
   "cell_type": "code",
   "execution_count": null,
   "id": "99fdaf17",
   "metadata": {},
   "outputs": [],
   "source": [
    "df"
   ]
  },
  {
   "cell_type": "code",
   "execution_count": null,
   "id": "79a140dd",
   "metadata": {},
   "outputs": [],
   "source": [
    "sns.countplot(x = 'Age', data = df)"
   ]
  },
  {
   "cell_type": "markdown",
   "id": "5a012768",
   "metadata": {},
   "source": [
    "# EXPRIENCE"
   ]
  },
  {
   "cell_type": "code",
   "execution_count": null,
   "id": "b0d2179e",
   "metadata": {},
   "outputs": [],
   "source": [
    "df[\"Experience\"].value_counts()"
   ]
  },
  {
   "cell_type": "code",
   "execution_count": null,
   "id": "53e12204",
   "metadata": {},
   "outputs": [],
   "source": [
    "plt.figure(figsize=(15, 10))\n",
    "sns.countplot(x = \"Experience\", data = df)\n",
    "plt.xticks(rotation=90)\n",
    "plt.show()"
   ]
  },
  {
   "cell_type": "code",
   "execution_count": null,
   "id": "559ae907",
   "metadata": {},
   "outputs": [],
   "source": [
    "df = df[df.Experience != -1]\n",
    "df = df[df.Experience != -2]\n",
    "df = df[df.Experience != -3]"
   ]
  },
  {
   "cell_type": "code",
   "execution_count": null,
   "id": "d398bfe4",
   "metadata": {},
   "outputs": [],
   "source": [
    "df.info()"
   ]
  },
  {
   "cell_type": "code",
   "execution_count": null,
   "id": "5a4b6c81",
   "metadata": {},
   "outputs": [],
   "source": [
    "plt.figure(figsize=(15, 10))\n",
    "sns.countplot(x = \"Experience\", data = df)\n",
    "plt.xticks(rotation=90)\n",
    "plt.show()"
   ]
  },
  {
   "cell_type": "code",
   "execution_count": null,
   "id": "39565ad3",
   "metadata": {},
   "outputs": [],
   "source": [
    "experience_mean = df.Experience.mean()\n",
    "experience_median = df.Experience.median()"
   ]
  },
  {
   "cell_type": "code",
   "execution_count": null,
   "id": "d2436273",
   "metadata": {},
   "outputs": [],
   "source": [
    "print(\"Mean = \", experience_mean)\n",
    "print(\"Median = \", experience_median)"
   ]
  },
  {
   "cell_type": "code",
   "execution_count": null,
   "id": "090fb8eb",
   "metadata": {},
   "outputs": [],
   "source": [
    "mean_median_experience_dataset = pd.DataFrame({\"Strategy\" : [\"Mean\", \"Median\"], \"Values\" : [experience_mean, experience_median]})"
   ]
  },
  {
   "cell_type": "code",
   "execution_count": null,
   "id": "f83814e5",
   "metadata": {},
   "outputs": [],
   "source": [
    "mean_median_experience_dataset"
   ]
  },
  {
   "cell_type": "code",
   "execution_count": null,
   "id": "7e3c435a",
   "metadata": {
    "scrolled": false
   },
   "outputs": [],
   "source": [
    "mean_median_experience_dataset.plot(x = \"Strategy\", y = \"Values\", kind = \"bar\")"
   ]
  },
  {
   "cell_type": "code",
   "execution_count": null,
   "id": "09c45c2b",
   "metadata": {},
   "outputs": [],
   "source": [
    "df.loc[(df[\"Experience\"] >= 0) & (df[\"Experience\"] <= 20), \"Experience\"] = 1\n",
    "df.loc[(df[\"Experience\"] > 20) & (df[\"Experience\"] <= 30), \"Experience\"] = 2\n",
    "df.loc[(df[\"Experience\"] > 30), \"Experience\"] = 3"
   ]
  },
  {
   "cell_type": "code",
   "execution_count": null,
   "id": "727c004d",
   "metadata": {
    "scrolled": false
   },
   "outputs": [],
   "source": [
    "df"
   ]
  },
  {
   "cell_type": "code",
   "execution_count": null,
   "id": "49049cd2",
   "metadata": {},
   "outputs": [],
   "source": [
    "sns.countplot(x = \"Experience\", data = df)"
   ]
  },
  {
   "cell_type": "markdown",
   "id": "a2074bbc",
   "metadata": {},
   "source": [
    "# IMCOME"
   ]
  },
  {
   "cell_type": "code",
   "execution_count": 7,
   "id": "9af151b7",
   "metadata": {},
   "outputs": [
    {
     "data": {
      "text/html": [
       "<div>\n",
       "<style scoped>\n",
       "    .dataframe tbody tr th:only-of-type {\n",
       "        vertical-align: middle;\n",
       "    }\n",
       "\n",
       "    .dataframe tbody tr th {\n",
       "        vertical-align: top;\n",
       "    }\n",
       "\n",
       "    .dataframe thead th {\n",
       "        text-align: right;\n",
       "    }\n",
       "</style>\n",
       "<table border=\"1\" class=\"dataframe\">\n",
       "  <thead>\n",
       "    <tr style=\"text-align: right;\">\n",
       "      <th></th>\n",
       "      <th>ID</th>\n",
       "      <th>Age</th>\n",
       "      <th>Experience</th>\n",
       "      <th>Income</th>\n",
       "      <th>ZIP Code</th>\n",
       "      <th>Family</th>\n",
       "      <th>CCAvg</th>\n",
       "      <th>Education</th>\n",
       "      <th>Mortgage</th>\n",
       "      <th>Personal Loan</th>\n",
       "      <th>Securities Account</th>\n",
       "      <th>CD Account</th>\n",
       "      <th>Online</th>\n",
       "      <th>CreditCard</th>\n",
       "    </tr>\n",
       "  </thead>\n",
       "  <tbody>\n",
       "    <tr>\n",
       "      <th>0</th>\n",
       "      <td>1</td>\n",
       "      <td>25</td>\n",
       "      <td>1.0</td>\n",
       "      <td>49.0</td>\n",
       "      <td>91107.0</td>\n",
       "      <td>4.0</td>\n",
       "      <td>1.6</td>\n",
       "      <td>1.0</td>\n",
       "      <td>0.0</td>\n",
       "      <td>0.0</td>\n",
       "      <td>1.0</td>\n",
       "      <td>0.0</td>\n",
       "      <td>0.0</td>\n",
       "      <td>0.0</td>\n",
       "    </tr>\n",
       "    <tr>\n",
       "      <th>1</th>\n",
       "      <td>2</td>\n",
       "      <td>45</td>\n",
       "      <td>19.0</td>\n",
       "      <td>34.0</td>\n",
       "      <td>90089.0</td>\n",
       "      <td>3.0</td>\n",
       "      <td>1.5</td>\n",
       "      <td>1.0</td>\n",
       "      <td>0.0</td>\n",
       "      <td>0.0</td>\n",
       "      <td>1.0</td>\n",
       "      <td>0.0</td>\n",
       "      <td>0.0</td>\n",
       "      <td>0.0</td>\n",
       "    </tr>\n",
       "    <tr>\n",
       "      <th>2</th>\n",
       "      <td>3</td>\n",
       "      <td>39</td>\n",
       "      <td>15.0</td>\n",
       "      <td>11.0</td>\n",
       "      <td>94720.0</td>\n",
       "      <td>1.0</td>\n",
       "      <td>1.0</td>\n",
       "      <td>1.0</td>\n",
       "      <td>0.0</td>\n",
       "      <td>0.0</td>\n",
       "      <td>0.0</td>\n",
       "      <td>0.0</td>\n",
       "      <td>0.0</td>\n",
       "      <td>0.0</td>\n",
       "    </tr>\n",
       "    <tr>\n",
       "      <th>3</th>\n",
       "      <td>4</td>\n",
       "      <td>35</td>\n",
       "      <td>9.0</td>\n",
       "      <td>100.0</td>\n",
       "      <td>94112.0</td>\n",
       "      <td>1.0</td>\n",
       "      <td>2.7</td>\n",
       "      <td>2.0</td>\n",
       "      <td>0.0</td>\n",
       "      <td>0.0</td>\n",
       "      <td>0.0</td>\n",
       "      <td>0.0</td>\n",
       "      <td>0.0</td>\n",
       "      <td>0.0</td>\n",
       "    </tr>\n",
       "    <tr>\n",
       "      <th>4</th>\n",
       "      <td>5</td>\n",
       "      <td>35</td>\n",
       "      <td>8.0</td>\n",
       "      <td>45.0</td>\n",
       "      <td>91330.0</td>\n",
       "      <td>4.0</td>\n",
       "      <td>1.0</td>\n",
       "      <td>2.0</td>\n",
       "      <td>0.0</td>\n",
       "      <td>0.0</td>\n",
       "      <td>0.0</td>\n",
       "      <td>0.0</td>\n",
       "      <td>0.0</td>\n",
       "      <td>1.0</td>\n",
       "    </tr>\n",
       "    <tr>\n",
       "      <th>...</th>\n",
       "      <td>...</td>\n",
       "      <td>...</td>\n",
       "      <td>...</td>\n",
       "      <td>...</td>\n",
       "      <td>...</td>\n",
       "      <td>...</td>\n",
       "      <td>...</td>\n",
       "      <td>...</td>\n",
       "      <td>...</td>\n",
       "      <td>...</td>\n",
       "      <td>...</td>\n",
       "      <td>...</td>\n",
       "      <td>...</td>\n",
       "      <td>...</td>\n",
       "    </tr>\n",
       "    <tr>\n",
       "      <th>4995</th>\n",
       "      <td>4996</td>\n",
       "      <td>29</td>\n",
       "      <td>3.0</td>\n",
       "      <td>40.0</td>\n",
       "      <td>92697.0</td>\n",
       "      <td>1.0</td>\n",
       "      <td>1.9</td>\n",
       "      <td>3.0</td>\n",
       "      <td>0.0</td>\n",
       "      <td>0.0</td>\n",
       "      <td>0.0</td>\n",
       "      <td>0.0</td>\n",
       "      <td>1.0</td>\n",
       "      <td>0.0</td>\n",
       "    </tr>\n",
       "    <tr>\n",
       "      <th>4996</th>\n",
       "      <td>4997</td>\n",
       "      <td>30</td>\n",
       "      <td>4.0</td>\n",
       "      <td>15.0</td>\n",
       "      <td>92037.0</td>\n",
       "      <td>4.0</td>\n",
       "      <td>0.4</td>\n",
       "      <td>1.0</td>\n",
       "      <td>85.0</td>\n",
       "      <td>0.0</td>\n",
       "      <td>0.0</td>\n",
       "      <td>0.0</td>\n",
       "      <td>1.0</td>\n",
       "      <td>0.0</td>\n",
       "    </tr>\n",
       "    <tr>\n",
       "      <th>4997</th>\n",
       "      <td>4998</td>\n",
       "      <td>63</td>\n",
       "      <td>39.0</td>\n",
       "      <td>24.0</td>\n",
       "      <td>93023.0</td>\n",
       "      <td>2.0</td>\n",
       "      <td>0.3</td>\n",
       "      <td>3.0</td>\n",
       "      <td>0.0</td>\n",
       "      <td>0.0</td>\n",
       "      <td>0.0</td>\n",
       "      <td>0.0</td>\n",
       "      <td>0.0</td>\n",
       "      <td>0.0</td>\n",
       "    </tr>\n",
       "    <tr>\n",
       "      <th>4998</th>\n",
       "      <td>4999</td>\n",
       "      <td>65</td>\n",
       "      <td>40.0</td>\n",
       "      <td>49.0</td>\n",
       "      <td>90034.0</td>\n",
       "      <td>3.0</td>\n",
       "      <td>0.5</td>\n",
       "      <td>2.0</td>\n",
       "      <td>0.0</td>\n",
       "      <td>0.0</td>\n",
       "      <td>0.0</td>\n",
       "      <td>0.0</td>\n",
       "      <td>1.0</td>\n",
       "      <td>0.0</td>\n",
       "    </tr>\n",
       "    <tr>\n",
       "      <th>4999</th>\n",
       "      <td>5000</td>\n",
       "      <td>28</td>\n",
       "      <td>4.0</td>\n",
       "      <td>83.0</td>\n",
       "      <td>92612.0</td>\n",
       "      <td>3.0</td>\n",
       "      <td>0.8</td>\n",
       "      <td>1.0</td>\n",
       "      <td>0.0</td>\n",
       "      <td>0.0</td>\n",
       "      <td>0.0</td>\n",
       "      <td>0.0</td>\n",
       "      <td>1.0</td>\n",
       "      <td>1.0</td>\n",
       "    </tr>\n",
       "  </tbody>\n",
       "</table>\n",
       "<p>5000 rows × 14 columns</p>\n",
       "</div>"
      ],
      "text/plain": [
       "        ID Age  Experience  Income  ZIP Code  Family  CCAvg  Education  \\\n",
       "0        1  25         1.0    49.0   91107.0     4.0    1.6        1.0   \n",
       "1        2  45        19.0    34.0   90089.0     3.0    1.5        1.0   \n",
       "2        3  39        15.0    11.0   94720.0     1.0    1.0        1.0   \n",
       "3        4  35         9.0   100.0   94112.0     1.0    2.7        2.0   \n",
       "4        5  35         8.0    45.0   91330.0     4.0    1.0        2.0   \n",
       "...    ...  ..         ...     ...       ...     ...    ...        ...   \n",
       "4995  4996  29         3.0    40.0   92697.0     1.0    1.9        3.0   \n",
       "4996  4997  30         4.0    15.0   92037.0     4.0    0.4        1.0   \n",
       "4997  4998  63        39.0    24.0   93023.0     2.0    0.3        3.0   \n",
       "4998  4999  65        40.0    49.0   90034.0     3.0    0.5        2.0   \n",
       "4999  5000  28         4.0    83.0   92612.0     3.0    0.8        1.0   \n",
       "\n",
       "      Mortgage  Personal Loan  Securities Account  CD Account  Online  \\\n",
       "0          0.0            0.0                 1.0         0.0     0.0   \n",
       "1          0.0            0.0                 1.0         0.0     0.0   \n",
       "2          0.0            0.0                 0.0         0.0     0.0   \n",
       "3          0.0            0.0                 0.0         0.0     0.0   \n",
       "4          0.0            0.0                 0.0         0.0     0.0   \n",
       "...        ...            ...                 ...         ...     ...   \n",
       "4995       0.0            0.0                 0.0         0.0     1.0   \n",
       "4996      85.0            0.0                 0.0         0.0     1.0   \n",
       "4997       0.0            0.0                 0.0         0.0     0.0   \n",
       "4998       0.0            0.0                 0.0         0.0     1.0   \n",
       "4999       0.0            0.0                 0.0         0.0     1.0   \n",
       "\n",
       "      CreditCard  \n",
       "0            0.0  \n",
       "1            0.0  \n",
       "2            0.0  \n",
       "3            0.0  \n",
       "4            1.0  \n",
       "...          ...  \n",
       "4995         0.0  \n",
       "4996         0.0  \n",
       "4997         0.0  \n",
       "4998         0.0  \n",
       "4999         1.0  \n",
       "\n",
       "[5000 rows x 14 columns]"
      ]
     },
     "execution_count": 7,
     "metadata": {},
     "output_type": "execute_result"
    }
   ],
   "source": [
    "df"
   ]
  },
  {
   "cell_type": "code",
   "execution_count": 8,
   "id": "95e126bd",
   "metadata": {},
   "outputs": [
    {
     "data": {
      "text/plain": [
       "0"
      ]
     },
     "execution_count": 8,
     "metadata": {},
     "output_type": "execute_result"
    }
   ],
   "source": [
    "df.Income.isnull().sum()"
   ]
  },
  {
   "cell_type": "code",
   "execution_count": 9,
   "id": "9d5da4c5",
   "metadata": {},
   "outputs": [
    {
     "data": {
      "image/png": "[encoded data removed]",
      "text/plain": [
       "<Figure size 1080x720 with 1 Axes>"
      ]
     },
     "metadata": {
      "needs_background": "light"
     },
     "output_type": "display_data"
    }
   ],
   "source": [
    "plt.figure(figsize=(15, 10))\n",
    "sns.histplot(x = \"Income\", data = df)\n",
    "plt.xticks(rotation=90)\n",
    "plt.show()"
   ]
  },
  {
   "cell_type": "code",
   "execution_count": 10,
   "id": "42755f0f",
   "metadata": {},
   "outputs": [],
   "source": [
    "col_2 = pd.DataFrame(df.Income.value_counts())\n",
    "col_2.rename(columns = {\"Income\" : \"Counts\"}, inplace = True)\n",
    "col_2.reset_index(drop = True, inplace = True)"
   ]
  },
  {
   "cell_type": "code",
   "execution_count": 11,
   "id": "d9ad133f",
   "metadata": {},
   "outputs": [
    {
     "data": {
      "text/html": [
       "<div>\n",
       "<style scoped>\n",
       "    .dataframe tbody tr th:only-of-type {\n",
       "        vertical-align: middle;\n",
       "    }\n",
       "\n",
       "    .dataframe tbody tr th {\n",
       "        vertical-align: top;\n",
       "    }\n",
       "\n",
       "    .dataframe thead th {\n",
       "        text-align: right;\n",
       "    }\n",
       "</style>\n",
       "<table border=\"1\" class=\"dataframe\">\n",
       "  <thead>\n",
       "    <tr style=\"text-align: right;\">\n",
       "      <th></th>\n",
       "      <th>Counts</th>\n",
       "    </tr>\n",
       "  </thead>\n",
       "  <tbody>\n",
       "    <tr>\n",
       "      <th>0</th>\n",
       "      <td>85</td>\n",
       "    </tr>\n",
       "    <tr>\n",
       "      <th>1</th>\n",
       "      <td>84</td>\n",
       "    </tr>\n",
       "    <tr>\n",
       "      <th>2</th>\n",
       "      <td>83</td>\n",
       "    </tr>\n",
       "    <tr>\n",
       "      <th>3</th>\n",
       "      <td>82</td>\n",
       "    </tr>\n",
       "    <tr>\n",
       "      <th>4</th>\n",
       "      <td>81</td>\n",
       "    </tr>\n",
       "    <tr>\n",
       "      <th>...</th>\n",
       "      <td>...</td>\n",
       "    </tr>\n",
       "    <tr>\n",
       "      <th>157</th>\n",
       "      <td>2</td>\n",
       "    </tr>\n",
       "    <tr>\n",
       "      <th>158</th>\n",
       "      <td>2</td>\n",
       "    </tr>\n",
       "    <tr>\n",
       "      <th>159</th>\n",
       "      <td>2</td>\n",
       "    </tr>\n",
       "    <tr>\n",
       "      <th>160</th>\n",
       "      <td>1</td>\n",
       "    </tr>\n",
       "    <tr>\n",
       "      <th>161</th>\n",
       "      <td>1</td>\n",
       "    </tr>\n",
       "  </tbody>\n",
       "</table>\n",
       "<p>162 rows × 1 columns</p>\n",
       "</div>"
      ],
      "text/plain": [
       "     Counts\n",
       "0        85\n",
       "1        84\n",
       "2        83\n",
       "3        82\n",
       "4        81\n",
       "..      ...\n",
       "157       2\n",
       "158       2\n",
       "159       2\n",
       "160       1\n",
       "161       1\n",
       "\n",
       "[162 rows x 1 columns]"
      ]
     },
     "execution_count": 11,
     "metadata": {},
     "output_type": "execute_result"
    }
   ],
   "source": [
    "col_2"
   ]
  },
  {
   "cell_type": "code",
   "execution_count": 12,
   "id": "2ab258f4",
   "metadata": {},
   "outputs": [
    {
     "data": {
      "text/html": [
       "<div>\n",
       "<style scoped>\n",
       "    .dataframe tbody tr th:only-of-type {\n",
       "        vertical-align: middle;\n",
       "    }\n",
       "\n",
       "    .dataframe tbody tr th {\n",
       "        vertical-align: top;\n",
       "    }\n",
       "\n",
       "    .dataframe thead th {\n",
       "        text-align: right;\n",
       "    }\n",
       "</style>\n",
       "<table border=\"1\" class=\"dataframe\">\n",
       "  <thead>\n",
       "    <tr style=\"text-align: right;\">\n",
       "      <th></th>\n",
       "      <th>Incomes</th>\n",
       "    </tr>\n",
       "  </thead>\n",
       "  <tbody>\n",
       "    <tr>\n",
       "      <th>0</th>\n",
       "      <td>44.0</td>\n",
       "    </tr>\n",
       "    <tr>\n",
       "      <th>1</th>\n",
       "      <td>38.0</td>\n",
       "    </tr>\n",
       "    <tr>\n",
       "      <th>2</th>\n",
       "      <td>81.0</td>\n",
       "    </tr>\n",
       "    <tr>\n",
       "      <th>3</th>\n",
       "      <td>41.0</td>\n",
       "    </tr>\n",
       "    <tr>\n",
       "      <th>4</th>\n",
       "      <td>39.0</td>\n",
       "    </tr>\n",
       "    <tr>\n",
       "      <th>...</th>\n",
       "      <td>...</td>\n",
       "    </tr>\n",
       "    <tr>\n",
       "      <th>157</th>\n",
       "      <td>202.0</td>\n",
       "    </tr>\n",
       "    <tr>\n",
       "      <th>158</th>\n",
       "      <td>189.0</td>\n",
       "    </tr>\n",
       "    <tr>\n",
       "      <th>159</th>\n",
       "      <td>205.0</td>\n",
       "    </tr>\n",
       "    <tr>\n",
       "      <th>160</th>\n",
       "      <td>218.0</td>\n",
       "    </tr>\n",
       "    <tr>\n",
       "      <th>161</th>\n",
       "      <td>224.0</td>\n",
       "    </tr>\n",
       "  </tbody>\n",
       "</table>\n",
       "<p>162 rows × 1 columns</p>\n",
       "</div>"
      ],
      "text/plain": [
       "     Incomes\n",
       "0       44.0\n",
       "1       38.0\n",
       "2       81.0\n",
       "3       41.0\n",
       "4       39.0\n",
       "..       ...\n",
       "157    202.0\n",
       "158    189.0\n",
       "159    205.0\n",
       "160    218.0\n",
       "161    224.0\n",
       "\n",
       "[162 rows x 1 columns]"
      ]
     },
     "execution_count": 12,
     "metadata": {},
     "output_type": "execute_result"
    }
   ],
   "source": [
    "col_1 = pd.DataFrame(df.Income.value_counts().index, columns = [\"Incomes\"])\n",
    "col_1"
   ]
  },
  {
   "cell_type": "code",
   "execution_count": 13,
   "id": "63c0edd4",
   "metadata": {},
   "outputs": [],
   "source": [
    "data = [col_1, col_2]"
   ]
  },
  {
   "cell_type": "code",
   "execution_count": 14,
   "id": "36e6b1b3",
   "metadata": {},
   "outputs": [],
   "source": [
    "dataset = pd.concat(data, axis = 1, join = \"inner\")"
   ]
  },
  {
   "cell_type": "code",
   "execution_count": 15,
   "id": "a6d78c32",
   "metadata": {},
   "outputs": [
    {
     "data": {
      "text/html": [
       "<div>\n",
       "<style scoped>\n",
       "    .dataframe tbody tr th:only-of-type {\n",
       "        vertical-align: middle;\n",
       "    }\n",
       "\n",
       "    .dataframe tbody tr th {\n",
       "        vertical-align: top;\n",
       "    }\n",
       "\n",
       "    .dataframe thead th {\n",
       "        text-align: right;\n",
       "    }\n",
       "</style>\n",
       "<table border=\"1\" class=\"dataframe\">\n",
       "  <thead>\n",
       "    <tr style=\"text-align: right;\">\n",
       "      <th></th>\n",
       "      <th>Incomes</th>\n",
       "      <th>Counts</th>\n",
       "    </tr>\n",
       "  </thead>\n",
       "  <tbody>\n",
       "    <tr>\n",
       "      <th>0</th>\n",
       "      <td>44.0</td>\n",
       "      <td>85</td>\n",
       "    </tr>\n",
       "    <tr>\n",
       "      <th>1</th>\n",
       "      <td>38.0</td>\n",
       "      <td>84</td>\n",
       "    </tr>\n",
       "    <tr>\n",
       "      <th>2</th>\n",
       "      <td>81.0</td>\n",
       "      <td>83</td>\n",
       "    </tr>\n",
       "    <tr>\n",
       "      <th>3</th>\n",
       "      <td>41.0</td>\n",
       "      <td>82</td>\n",
       "    </tr>\n",
       "    <tr>\n",
       "      <th>4</th>\n",
       "      <td>39.0</td>\n",
       "      <td>81</td>\n",
       "    </tr>\n",
       "    <tr>\n",
       "      <th>...</th>\n",
       "      <td>...</td>\n",
       "      <td>...</td>\n",
       "    </tr>\n",
       "    <tr>\n",
       "      <th>157</th>\n",
       "      <td>202.0</td>\n",
       "      <td>2</td>\n",
       "    </tr>\n",
       "    <tr>\n",
       "      <th>158</th>\n",
       "      <td>189.0</td>\n",
       "      <td>2</td>\n",
       "    </tr>\n",
       "    <tr>\n",
       "      <th>159</th>\n",
       "      <td>205.0</td>\n",
       "      <td>2</td>\n",
       "    </tr>\n",
       "    <tr>\n",
       "      <th>160</th>\n",
       "      <td>218.0</td>\n",
       "      <td>1</td>\n",
       "    </tr>\n",
       "    <tr>\n",
       "      <th>161</th>\n",
       "      <td>224.0</td>\n",
       "      <td>1</td>\n",
       "    </tr>\n",
       "  </tbody>\n",
       "</table>\n",
       "<p>162 rows × 2 columns</p>\n",
       "</div>"
      ],
      "text/plain": [
       "     Incomes  Counts\n",
       "0       44.0      85\n",
       "1       38.0      84\n",
       "2       81.0      83\n",
       "3       41.0      82\n",
       "4       39.0      81\n",
       "..       ...     ...\n",
       "157    202.0       2\n",
       "158    189.0       2\n",
       "159    205.0       2\n",
       "160    218.0       1\n",
       "161    224.0       1\n",
       "\n",
       "[162 rows x 2 columns]"
      ]
     },
     "execution_count": 15,
     "metadata": {},
     "output_type": "execute_result"
    }
   ],
   "source": [
    "dataset"
   ]
  },
  {
   "cell_type": "code",
   "execution_count": 21,
   "id": "270c35c3",
   "metadata": {},
   "outputs": [],
   "source": [
    "dataset_1 = dataset.iloc[:27]\n",
    "dataset_2 = dataset.iloc[27:54]\n",
    "dataset_3 = dataset.iloc[54:81]\n",
    "dataset_4 = dataset.iloc[81:107]\n",
    "dataset_5 = dataset.iloc[107: 134]\n",
    "dataset_6 = dataset.iloc[134:]"
   ]
  },
  {
   "cell_type": "code",
   "execution_count": 22,
   "id": "4e6fa179",
   "metadata": {},
   "outputs": [],
   "source": [
    "dataset_data = [dataset_1, dataset_2, dataset_3, dataset_4, dataset_5, dataset_6]"
   ]
  },
  {
   "cell_type": "code",
   "execution_count": 33,
   "id": "0019ef27",
   "metadata": {},
   "outputs": [
    {
     "data": {
      "text/plain": [
       "<AxesSubplot:xlabel='Incomes'>"
      ]
     },
     "execution_count": 33,
     "metadata": {},
     "output_type": "execute_result"
    },
    {
     "data": {
      "text/plain": [
       "<Figure size 1080x720 with 0 Axes>"
      ]
     },
     "metadata": {},
     "output_type": "display_data"
    },
    {
     "data": {
      "image/png": "[encoded data removed]",
      "text/plain": [
       "<Figure size 432x288 with 1 Axes>"
      ]
     },
     "metadata": {
      "needs_background": "light"
     },
     "output_type": "display_data"
    }
   ],
   "source": [
    "plt.figure(figsize=(15, 10))\n",
    "dataset_1.plot(x = \"Incomes\", y = \"Counts\", kind = \"bar\")"
   ]
  },
  {
   "cell_type": "code",
   "execution_count": 28,
   "id": "0f07f727",
   "metadata": {},
   "outputs": [
    {
     "data": {
      "text/plain": [
       "<AxesSubplot:xlabel='Incomes'>"
      ]
     },
     "execution_count": 28,
     "metadata": {},
     "output_type": "execute_result"
    },
    {
     "data": {
      "image/png": "[encoded data removed]",
      "text/plain": [
       "<Figure size 432x288 with 1 Axes>"
      ]
     },
     "metadata": {
      "needs_background": "light"
     },
     "output_type": "display_data"
    }
   ],
   "source": [
    "dataset_2.plot(x = \"Incomes\", y = \"Counts\", kind = \"bar\")"
   ]
  },
  {
   "cell_type": "code",
   "execution_count": 29,
   "id": "279d89d6",
   "metadata": {},
   "outputs": [
    {
     "data": {
      "text/plain": [
       "<AxesSubplot:xlabel='Incomes'>"
      ]
     },
     "execution_count": 29,
     "metadata": {},
     "output_type": "execute_result"
    },
    {
     "data": {
      "image/png": "[encoded data removed]",
      "text/plain": [
       "<Figure size 432x288 with 1 Axes>"
      ]
     },
     "metadata": {
      "needs_background": "light"
     },
     "output_type": "display_data"
    }
   ],
   "source": [
    "dataset_3.plot(x = \"Incomes\", y = \"Counts\", kind = \"bar\")"
   ]
  },
  {
   "cell_type": "code",
   "execution_count": 30,
   "id": "c6983b91",
   "metadata": {},
   "outputs": [
    {
     "data": {
      "text/plain": [
       "<AxesSubplot:xlabel='Incomes'>"
      ]
     },
     "execution_count": 30,
     "metadata": {},
     "output_type": "execute_result"
    },
    {
     "data": {
      "image/png": "[encoded data removed]",
      "text/plain": [
       "<Figure size 432x288 with 1 Axes>"
      ]
     },
     "metadata": {
      "needs_background": "light"
     },
     "output_type": "display_data"
    }
   ],
   "source": [
    "dataset_4.plot(x = \"Incomes\", y = \"Counts\", kind = \"bar\")"
   ]
  },
  {
   "cell_type": "code",
   "execution_count": 34,
   "id": "faa4435b",
   "metadata": {},
   "outputs": [
    {
     "data": {
      "text/plain": [
       "Text(0.5, 0, '134-162')"
      ]
     },
     "execution_count": 34,
     "metadata": {},
     "output_type": "execute_result"
    },
    {
     "data": {
      "image/png": "[encoded data removed]",
      "text/plain": [
       "<Figure size 432x288 with 1 Axes>"
      ]
     },
     "metadata": {
      "needs_background": "light"
     },
     "output_type": "display_data"
    }
   ],
   "source": [
    "dataset_5.plot(x = \"Incomes\", y = \"Counts\", kind = \"bar\")\n",
    "plt.xlabel(\"134-162\")"
   ]
  },
  {
   "cell_type": "code",
   "execution_count": 32,
   "id": "4035e4dd",
   "metadata": {},
   "outputs": [
    {
     "data": {
      "text/plain": [
       "<AxesSubplot:xlabel='Incomes'>"
      ]
     },
     "execution_count": 32,
     "metadata": {},
     "output_type": "execute_result"
    },
    {
     "data": {
      "image/png": "[encoded data removed]",
      "text/plain": [
       "<Figure size 432x288 with 1 Axes>"
      ]
     },
     "metadata": {
      "needs_background": "light"
     },
     "output_type": "display_data"
    }
   ],
   "source": [
    "dataset_6.plot(x = \"Incomes\", y = \"Counts\", kind = \"bar\")"
   ]
  },
  {
   "cell_type": "code",
   "execution_count": null,
   "id": "8e0682e0",
   "metadata": {},
   "outputs": [],
   "source": [
    "plt.figure(figsize=(10, 20))\n",
    "dataset.plot(x = \"Incomes\", y = \"Counts\", kind = \"bar\")\n",
    "plt.xticks(rotation=90)\n",
    "plt.show()"
   ]
  },
  {
   "cell_type": "code",
   "execution_count": null,
   "id": "845ebe72",
   "metadata": {},
   "outputs": [],
   "source": [
    "plt.figure(figsize=(20, 10))\n",
    "sns.countplot(x = \"Income\", data = df)\n",
    "plt.xticks(rotation=90)\n",
    "plt.show() "
   ]
  },
  {
   "cell_type": "code",
   "execution_count": null,
   "id": "9201d77e",
   "metadata": {},
   "outputs": [],
   "source": [
    "mean_income = df.Income.mean()\n",
    "median_income = df.Income.median()"
   ]
  },
  {
   "cell_type": "code",
   "execution_count": null,
   "id": "424e601e",
   "metadata": {},
   "outputs": [],
   "source": [
    "df_income = pd.DataFrame({\"Strategy\" : [\"Mean\", \"Median\"], \"Values\" : [mean_income, median_income]})\n",
    "df_income"
   ]
  },
  {
   "cell_type": "code",
   "execution_count": null,
   "id": "6b476987",
   "metadata": {},
   "outputs": [],
   "source": [
    "df_income.plot(x = \"Strategy\", y = \"Values\", kind = \"bar\")"
   ]
  },
  {
   "cell_type": "code",
   "execution_count": null,
   "id": "294694c1",
   "metadata": {},
   "outputs": [],
   "source": [
    "plt.figure(figsize = (10, 10))\n",
    "sns.histplot(x = \"Income\", data = df, kde = True)"
   ]
  },
  {
   "cell_type": "code",
   "execution_count": null,
   "id": "ee0145c0",
   "metadata": {},
   "outputs": [],
   "source": [
    "sns.kdeplot(x = \"Income\", data = df)"
   ]
  },
  {
   "cell_type": "code",
   "execution_count": null,
   "id": "dcaecf87",
   "metadata": {
    "scrolled": false
   },
   "outputs": [],
   "source": [
    "df.Income.value_counts()"
   ]
  },
  {
   "cell_type": "code",
   "execution_count": null,
   "id": "ced1334d",
   "metadata": {},
   "outputs": [],
   "source": [
    "df.Income.min()"
   ]
  },
  {
   "cell_type": "code",
   "execution_count": null,
   "id": "6b82f49d",
   "metadata": {},
   "outputs": [],
   "source": [
    "df.Income.min() *100"
   ]
  },
  {
   "cell_type": "code",
   "execution_count": null,
   "id": "e7a2ff1e",
   "metadata": {},
   "outputs": [],
   "source": [
    "df.Income.max() * 100"
   ]
  },
  {
   "cell_type": "code",
   "execution_count": null,
   "id": "01280527",
   "metadata": {},
   "outputs": [],
   "source": [
    "min_ = len(df[df.Income == df.Income.min()])"
   ]
  },
  {
   "cell_type": "code",
   "execution_count": null,
   "id": "10f9a4a3",
   "metadata": {},
   "outputs": [],
   "source": [
    "max_ = len(df[df.Income == df.Income.max()])"
   ]
  },
  {
   "cell_type": "code",
   "execution_count": null,
   "id": "e892b4b3",
   "metadata": {},
   "outputs": [],
   "source": [
    "df_min_max = pd.DataFrame({\"Strategy\" : [\"Min\", \"Max\"], \"Values\" : [min_, max_]})"
   ]
  },
  {
   "cell_type": "code",
   "execution_count": null,
   "id": "64a45f08",
   "metadata": {},
   "outputs": [],
   "source": [
    "df_min_max.plot(x = \"Strategy\", y = \"Values\", kind = \"bar\")"
   ]
  },
  {
   "cell_type": "code",
   "execution_count": null,
   "id": "6912ccfb",
   "metadata": {},
   "outputs": [],
   "source": [
    "df.loc[df[\"Income\"] <= 39, \"Income\"] = 1\n",
    "df.loc[(df[\"Income\"] > 39) & (df[\"Income\"] <= 98), \"Income\"] = 2\n",
    "df.loc[df[\"Income\"] > 98, \"Income\"] = 3"
   ]
  },
  {
   "cell_type": "code",
   "execution_count": null,
   "id": "ff8673c6",
   "metadata": {},
   "outputs": [],
   "source": [
    "len(df[df.Income == 1])"
   ]
  },
  {
   "cell_type": "code",
   "execution_count": null,
   "id": "4248d804",
   "metadata": {},
   "outputs": [],
   "source": [
    "len(df[df.Income == 2])"
   ]
  },
  {
   "cell_type": "code",
   "execution_count": null,
   "id": "46c9b0f9",
   "metadata": {},
   "outputs": [],
   "source": [
    "len(df[df.Income == 3])"
   ]
  },
  {
   "cell_type": "code",
   "execution_count": null,
   "id": "e303d048",
   "metadata": {},
   "outputs": [],
   "source": [
    "sns.countplot(x = \"Income\", data = df)"
   ]
  },
  {
   "cell_type": "markdown",
   "id": "ad2da1cd",
   "metadata": {},
   "source": [
    "# Family"
   ]
  },
  {
   "cell_type": "code",
   "execution_count": null,
   "id": "0e000b29",
   "metadata": {},
   "outputs": [],
   "source": [
    "print(\"1.0 \", len(df[df.Family == 1.0]))\n",
    "print(\"2.0 \", len(df[df.Family == 2.0]))\n",
    "print(\"3.0 \", len(df[df.Family == 3.0]))\n",
    "print(\"4.0 \", len(df[df.Family == 4.0]))"
   ]
  },
  {
   "cell_type": "code",
   "execution_count": null,
   "id": "4f40d3d7",
   "metadata": {},
   "outputs": [],
   "source": [
    "sns.countplot(x = \"Family\", data = df)"
   ]
  },
  {
   "cell_type": "markdown",
   "id": "e245bf81",
   "metadata": {},
   "source": [
    "# CCAVG"
   ]
  },
  {
   "cell_type": "code",
   "execution_count": null,
   "id": "bcd86430",
   "metadata": {},
   "outputs": [],
   "source": [
    "df"
   ]
  },
  {
   "cell_type": "code",
   "execution_count": null,
   "id": "a38d0428",
   "metadata": {},
   "outputs": [],
   "source": [
    "len(df[df.CCAvg == 3.0])"
   ]
  },
  {
   "cell_type": "code",
   "execution_count": null,
   "id": "0578efaf",
   "metadata": {},
   "outputs": [],
   "source": [
    "len(df[df.CCAvg == df.CCAvg.max()])"
   ]
  },
  {
   "cell_type": "code",
   "execution_count": null,
   "id": "04f3b939",
   "metadata": {},
   "outputs": [],
   "source": [
    "df.CCAvg.max()"
   ]
  },
  {
   "cell_type": "code",
   "execution_count": null,
   "id": "d339648f",
   "metadata": {},
   "outputs": [],
   "source": [
    "plt.figure(figsize=(20, 5))\n",
    "sns.countplot(x = \"CCAvg\", data = df)\n",
    "plt.xticks(rotation=90)\n",
    "plt.show()"
   ]
  },
  {
   "cell_type": "code",
   "execution_count": null,
   "id": "8f467a0c",
   "metadata": {},
   "outputs": [],
   "source": [
    "mean_CCAvg = df.CCAvg.mean()\n",
    "median_CCAvg = df.CCAvg.median()"
   ]
  },
  {
   "cell_type": "code",
   "execution_count": null,
   "id": "d82a0996",
   "metadata": {},
   "outputs": [],
   "source": [
    "df_ccavg = pd.DataFrame({\"Strategy\" : [\"Mean\", \"Median\"], \"Values\" : [mean_CCAvg, median_CCAvg]})\n",
    "df_ccavg"
   ]
  },
  {
   "cell_type": "code",
   "execution_count": null,
   "id": "a62b436c",
   "metadata": {},
   "outputs": [],
   "source": [
    "df_ccavg.plot(x = \"Strategy\", y = \"Values\", kind = \"bar\")"
   ]
  },
  {
   "cell_type": "code",
   "execution_count": null,
   "id": "ff88b524",
   "metadata": {},
   "outputs": [],
   "source": [
    "sns.histplot(x = \"CCAvg\", data = df, kde = True)"
   ]
  },
  {
   "cell_type": "code",
   "execution_count": null,
   "id": "da844f9a",
   "metadata": {},
   "outputs": [],
   "source": [
    "sns.kdeplot(x = \"CCAvg\", data = df)"
   ]
  },
  {
   "cell_type": "code",
   "execution_count": null,
   "id": "145a9d08",
   "metadata": {},
   "outputs": [],
   "source": [
    "df.loc[df[\"CCAvg\"] <= 0.70, \"CCAvg\"] = 1\n",
    "df.loc[(df[\"CCAvg\"] > 0.70) & (df[\"CCAvg\"] <= 2.50), \"CCAvg\"] = 2\n",
    "df.loc[df[\"CCAvg\"] > 2.50, \"CCAvg\"] = 3"
   ]
  },
  {
   "cell_type": "code",
   "execution_count": null,
   "id": "18139e69",
   "metadata": {},
   "outputs": [],
   "source": [
    "sns.countplot(x = \"CCAvg\", data = df)"
   ]
  },
  {
   "cell_type": "markdown",
   "id": "fe663011",
   "metadata": {},
   "source": [
    "# EDUCATION"
   ]
  },
  {
   "cell_type": "code",
   "execution_count": null,
   "id": "4f80cffc",
   "metadata": {},
   "outputs": [],
   "source": [
    "sns.countplot(x = \"Education\", data = df)"
   ]
  },
  {
   "cell_type": "code",
   "execution_count": null,
   "id": "ed757c50",
   "metadata": {},
   "outputs": [],
   "source": [
    "len(df[df.Education == df.Education.max()])"
   ]
  },
  {
   "cell_type": "code",
   "execution_count": null,
   "id": "208934ce",
   "metadata": {},
   "outputs": [],
   "source": [
    "len(df[df.Education == df.Education.min()])"
   ]
  },
  {
   "cell_type": "code",
   "execution_count": null,
   "id": "8112c479",
   "metadata": {},
   "outputs": [],
   "source": [
    "len(df[df.Education == 2.0])"
   ]
  },
  {
   "cell_type": "markdown",
   "id": "82a779a8",
   "metadata": {},
   "source": [
    "# Mortgage"
   ]
  },
  {
   "cell_type": "code",
   "execution_count": null,
   "id": "2ac8e755",
   "metadata": {},
   "outputs": [],
   "source": [
    "len(df[df.Mortgage == df.Mortgage.min()])"
   ]
  },
  {
   "cell_type": "code",
   "execution_count": null,
   "id": "d520c3db",
   "metadata": {},
   "outputs": [],
   "source": [
    "df.Mortgage.min()"
   ]
  },
  {
   "cell_type": "code",
   "execution_count": null,
   "id": "085ea418",
   "metadata": {},
   "outputs": [],
   "source": [
    "len(df[df.Mortgage == df.Mortgage.max()])"
   ]
  },
  {
   "cell_type": "code",
   "execution_count": null,
   "id": "2aa61c0e",
   "metadata": {},
   "outputs": [],
   "source": [
    "df.Mortgage.max()"
   ]
  },
  {
   "cell_type": "code",
   "execution_count": null,
   "id": "cc1886ef",
   "metadata": {},
   "outputs": [],
   "source": [
    "df.Mortgage.unique()"
   ]
  },
  {
   "cell_type": "code",
   "execution_count": null,
   "id": "7669626d",
   "metadata": {
    "scrolled": false
   },
   "outputs": [],
   "source": [
    "data = pd.DataFrame(data = df.Mortgage.value_counts())\n",
    "data"
   ]
  },
  {
   "cell_type": "code",
   "execution_count": null,
   "id": "db0b9671",
   "metadata": {
    "scrolled": true
   },
   "outputs": [],
   "source": [
    "df.Mortgage.value_counts().index"
   ]
  },
  {
   "cell_type": "code",
   "execution_count": null,
   "id": "82c62927",
   "metadata": {},
   "outputs": [],
   "source": [
    "data_mortgage = pd.DataFrame(data = df.Mortgage.value_counts().index)"
   ]
  },
  {
   "cell_type": "code",
   "execution_count": null,
   "id": "e2812278",
   "metadata": {},
   "outputs": [],
   "source": [
    "data_mortgage"
   ]
  },
  {
   "cell_type": "code",
   "execution_count": null,
   "id": "3bb120f8",
   "metadata": {},
   "outputs": [],
   "source": [
    "concat = [data_mortgage, data]"
   ]
  },
  {
   "cell_type": "code",
   "execution_count": null,
   "id": "de7211c1",
   "metadata": {},
   "outputs": [],
   "source": [
    "dataframe = pd.concat(concat, axis = 1, join=\"inner\")"
   ]
  },
  {
   "cell_type": "code",
   "execution_count": null,
   "id": "ef2be904",
   "metadata": {},
   "outputs": [],
   "source": [
    "dataframe"
   ]
  },
  {
   "cell_type": "code",
   "execution_count": null,
   "id": "f37fbb1b",
   "metadata": {},
   "outputs": [],
   "source": [
    "dataframe.reset_index(drop = True)"
   ]
  },
  {
   "cell_type": "code",
   "execution_count": null,
   "id": "16d696e4",
   "metadata": {},
   "outputs": [],
   "source": [
    "sns.histplot(x = 0, data = dataframe, kde = True)"
   ]
  },
  {
   "cell_type": "code",
   "execution_count": null,
   "id": "bc7cd744",
   "metadata": {},
   "outputs": [],
   "source": [
    "sns.kdeplot(x = 0, data = dataframe)"
   ]
  },
  {
   "cell_type": "code",
   "execution_count": null,
   "id": "e3e8e186",
   "metadata": {},
   "outputs": [],
   "source": [
    "sns.kdeplot(x = \"Mortgage\", data = df)"
   ]
  },
  {
   "cell_type": "code",
   "execution_count": null,
   "id": "56e7506d",
   "metadata": {},
   "outputs": [],
   "source": [
    "44.0*100"
   ]
  },
  {
   "cell_type": "code",
   "execution_count": null,
   "id": "9d332273",
   "metadata": {},
   "outputs": [],
   "source": [
    "44000"
   ]
  }
 ],
 "metadata": {
  "kernelspec": {
   "display_name": "Python 3",
   "language": "python",
   "name": "python3"
  },
  "language_info": {
   "codemirror_mode": {
    "name": "ipython",
    "version": 3
   },
   "file_extension": ".py",
   "mimetype": "text/x-python",
   "name": "python",
   "nbconvert_exporter": "python",
   "pygments_lexer": "ipython3",
   "version": "3.8.9"
  }
 },
 "nbformat": 4,
 "nbformat_minor": 5
}
