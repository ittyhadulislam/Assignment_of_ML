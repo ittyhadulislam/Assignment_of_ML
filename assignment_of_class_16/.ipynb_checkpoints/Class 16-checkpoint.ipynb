{
 "cells": [
  {
   "cell_type": "code",
   "execution_count": 1,
   "id": "6b5b3ab2",
   "metadata": {},
   "outputs": [],
   "source": [
    "import pandas as pd\n",
    "import seaborn as sns\n",
    "import matplotlib.pyplot as plt"
   ]
  },
  {
   "cell_type": "code",
   "execution_count": 2,
   "id": "06ddcdcf",
   "metadata": {},
   "outputs": [
    {
     "data": {
      "text/html": [
       "<div>\n",
       "<style scoped>\n",
       "    .dataframe tbody tr th:only-of-type {\n",
       "        vertical-align: middle;\n",
       "    }\n",
       "\n",
       "    .dataframe tbody tr th {\n",
       "        vertical-align: top;\n",
       "    }\n",
       "\n",
       "    .dataframe thead th {\n",
       "        text-align: right;\n",
       "    }\n",
       "</style>\n",
       "<table border=\"1\" class=\"dataframe\">\n",
       "  <thead>\n",
       "    <tr style=\"text-align: right;\">\n",
       "      <th></th>\n",
       "      <th>Gender</th>\n",
       "      <th>Height</th>\n",
       "      <th>Weight</th>\n",
       "    </tr>\n",
       "  </thead>\n",
       "  <tbody>\n",
       "    <tr>\n",
       "      <th>0</th>\n",
       "      <td>Male</td>\n",
       "      <td>73.847017</td>\n",
       "      <td>241.893563</td>\n",
       "    </tr>\n",
       "    <tr>\n",
       "      <th>1</th>\n",
       "      <td>Male</td>\n",
       "      <td>68.781904</td>\n",
       "      <td>162.310473</td>\n",
       "    </tr>\n",
       "    <tr>\n",
       "      <th>2</th>\n",
       "      <td>Male</td>\n",
       "      <td>74.110105</td>\n",
       "      <td>212.740856</td>\n",
       "    </tr>\n",
       "    <tr>\n",
       "      <th>3</th>\n",
       "      <td>Male</td>\n",
       "      <td>71.730978</td>\n",
       "      <td>220.042470</td>\n",
       "    </tr>\n",
       "    <tr>\n",
       "      <th>4</th>\n",
       "      <td>Male</td>\n",
       "      <td>69.881796</td>\n",
       "      <td>206.349801</td>\n",
       "    </tr>\n",
       "  </tbody>\n",
       "</table>\n",
       "</div>"
      ],
      "text/plain": [
       "  Gender     Height      Weight\n",
       "0   Male  73.847017  241.893563\n",
       "1   Male  68.781904  162.310473\n",
       "2   Male  74.110105  212.740856\n",
       "3   Male  71.730978  220.042470\n",
       "4   Male  69.881796  206.349801"
      ]
     },
     "execution_count": 2,
     "metadata": {},
     "output_type": "execute_result"
    }
   ],
   "source": [
    "df = pd.read_csv('weight-height.csv')\n",
    "df.head()"
   ]
  },
  {
   "cell_type": "markdown",
   "id": "022ef1dc",
   "metadata": {},
   "source": [
    "# HOME WORK"
   ]
  },
  {
   "cell_type": "code",
   "execution_count": 35,
   "id": "55287870",
   "metadata": {},
   "outputs": [],
   "source": [
    "#OUT REMOVE\n",
    "#ENCODE\n",
    "#75% TRAIN 25% TEST\n",
    "#predic weight"
   ]
  },
  {
   "cell_type": "code",
   "execution_count": 4,
   "id": "29957f41",
   "metadata": {},
   "outputs": [
    {
     "data": {
      "text/plain": [
       "(8555, 3)"
      ]
     },
     "execution_count": 4,
     "metadata": {},
     "output_type": "execute_result"
    }
   ],
   "source": [
    "df.shape"
   ]
  },
  {
   "cell_type": "code",
   "execution_count": 5,
   "id": "bbd27d82",
   "metadata": {},
   "outputs": [
    {
     "data": {
      "text/plain": [
       "Gender    0\n",
       "Height    0\n",
       "Weight    0\n",
       "dtype: int64"
      ]
     },
     "execution_count": 5,
     "metadata": {},
     "output_type": "execute_result"
    }
   ],
   "source": [
    "df.isnull().sum()"
   ]
  },
  {
   "cell_type": "code",
   "execution_count": 6,
   "id": "5b9eae6e",
   "metadata": {},
   "outputs": [
    {
     "data": {
      "text/plain": [
       "8555"
      ]
     },
     "execution_count": 6,
     "metadata": {},
     "output_type": "execute_result"
    }
   ],
   "source": [
    "len(df['Weight'])"
   ]
  },
  {
   "cell_type": "code",
   "execution_count": 7,
   "id": "4d169ff9",
   "metadata": {},
   "outputs": [
    {
     "data": {
      "text/plain": [
       "<AxesSubplot:xlabel='Weight', ylabel='Count'>"
      ]
     },
     "execution_count": 7,
     "metadata": {},
     "output_type": "execute_result"
    },
    {
     "data": {
      "image/png": "[encoded data removed]",
      "text/plain": [
       "<Figure size 432x288 with 1 Axes>"
      ]
     },
     "metadata": {
      "needs_background": "light"
     },
     "output_type": "display_data"
    }
   ],
   "source": [
    "sns.histplot(df.Weight , kde=True)"
   ]
  },
  {
   "cell_type": "markdown",
   "id": "dfce9181",
   "metadata": {},
   "source": [
    "# Outlier Remove"
   ]
  },
  {
   "cell_type": "code",
   "execution_count": 8,
   "id": "19409082",
   "metadata": {},
   "outputs": [],
   "source": [
    "mean = df['Weight'].sum() / len(df['Weight'])  # df.Weight.mean()"
   ]
  },
  {
   "cell_type": "code",
   "execution_count": 9,
   "id": "d56efb86",
   "metadata": {},
   "outputs": [
    {
     "data": {
      "text/plain": [
       "165.6327353266768"
      ]
     },
     "execution_count": 9,
     "metadata": {},
     "output_type": "execute_result"
    }
   ],
   "source": [
    "mean"
   ]
  },
  {
   "cell_type": "code",
   "execution_count": 10,
   "id": "ab3371cd",
   "metadata": {},
   "outputs": [],
   "source": [
    "standard_deviation = df.Weight.std()"
   ]
  },
  {
   "cell_type": "code",
   "execution_count": 11,
   "id": "31bd258f",
   "metadata": {},
   "outputs": [
    {
     "data": {
      "text/plain": [
       "32.04392221721549"
      ]
     },
     "execution_count": 11,
     "metadata": {},
     "output_type": "execute_result"
    }
   ],
   "source": [
    "standard_deviation"
   ]
  },
  {
   "cell_type": "code",
   "execution_count": 25,
   "id": "8ab26393",
   "metadata": {},
   "outputs": [
    {
     "data": {
      "text/plain": [
       "229.72057976110779"
      ]
     },
     "execution_count": 25,
     "metadata": {},
     "output_type": "execute_result"
    }
   ],
   "source": [
    "standard_deviation_plus = mean + (2*standard_deviation)\n",
    "standard_deviation_plus"
   ]
  },
  {
   "cell_type": "code",
   "execution_count": 26,
   "id": "8f2db0a2",
   "metadata": {},
   "outputs": [
    {
     "data": {
      "text/html": [
       "<div>\n",
       "<style scoped>\n",
       "    .dataframe tbody tr th:only-of-type {\n",
       "        vertical-align: middle;\n",
       "    }\n",
       "\n",
       "    .dataframe tbody tr th {\n",
       "        vertical-align: top;\n",
       "    }\n",
       "\n",
       "    .dataframe thead th {\n",
       "        text-align: right;\n",
       "    }\n",
       "</style>\n",
       "<table border=\"1\" class=\"dataframe\">\n",
       "  <thead>\n",
       "    <tr style=\"text-align: right;\">\n",
       "      <th></th>\n",
       "      <th>Gender</th>\n",
       "      <th>Height</th>\n",
       "      <th>Weight</th>\n",
       "    </tr>\n",
       "  </thead>\n",
       "  <tbody>\n",
       "    <tr>\n",
       "      <th>0</th>\n",
       "      <td>Male</td>\n",
       "      <td>73.847017</td>\n",
       "      <td>241.893563</td>\n",
       "    </tr>\n",
       "    <tr>\n",
       "      <th>82</th>\n",
       "      <td>Male</td>\n",
       "      <td>73.826127</td>\n",
       "      <td>237.916736</td>\n",
       "    </tr>\n",
       "    <tr>\n",
       "      <th>190</th>\n",
       "      <td>Male</td>\n",
       "      <td>76.709835</td>\n",
       "      <td>235.035419</td>\n",
       "    </tr>\n",
       "    <tr>\n",
       "      <th>191</th>\n",
       "      <td>Male</td>\n",
       "      <td>72.571121</td>\n",
       "      <td>230.560535</td>\n",
       "    </tr>\n",
       "    <tr>\n",
       "      <th>197</th>\n",
       "      <td>Male</td>\n",
       "      <td>75.944460</td>\n",
       "      <td>231.924748</td>\n",
       "    </tr>\n",
       "    <tr>\n",
       "      <th>215</th>\n",
       "      <td>Male</td>\n",
       "      <td>74.795375</td>\n",
       "      <td>232.635403</td>\n",
       "    </tr>\n",
       "    <tr>\n",
       "      <th>232</th>\n",
       "      <td>Male</td>\n",
       "      <td>76.021347</td>\n",
       "      <td>235.926061</td>\n",
       "    </tr>\n",
       "    <tr>\n",
       "      <th>248</th>\n",
       "      <td>Male</td>\n",
       "      <td>73.815386</td>\n",
       "      <td>231.374508</td>\n",
       "    </tr>\n",
       "    <tr>\n",
       "      <th>263</th>\n",
       "      <td>Male</td>\n",
       "      <td>74.221175</td>\n",
       "      <td>231.130190</td>\n",
       "    </tr>\n",
       "    <tr>\n",
       "      <th>290</th>\n",
       "      <td>Male</td>\n",
       "      <td>74.785714</td>\n",
       "      <td>239.464343</td>\n",
       "    </tr>\n",
       "    <tr>\n",
       "      <th>430</th>\n",
       "      <td>Male</td>\n",
       "      <td>76.027082</td>\n",
       "      <td>232.313471</td>\n",
       "    </tr>\n",
       "    <tr>\n",
       "      <th>632</th>\n",
       "      <td>Male</td>\n",
       "      <td>75.033889</td>\n",
       "      <td>232.886117</td>\n",
       "    </tr>\n",
       "    <tr>\n",
       "      <th>683</th>\n",
       "      <td>Male</td>\n",
       "      <td>73.759636</td>\n",
       "      <td>231.608671</td>\n",
       "    </tr>\n",
       "    <tr>\n",
       "      <th>741</th>\n",
       "      <td>Male</td>\n",
       "      <td>76.012300</td>\n",
       "      <td>235.437966</td>\n",
       "    </tr>\n",
       "    <tr>\n",
       "      <th>900</th>\n",
       "      <td>Male</td>\n",
       "      <td>74.216431</td>\n",
       "      <td>238.569451</td>\n",
       "    </tr>\n",
       "    <tr>\n",
       "      <th>1030</th>\n",
       "      <td>Male</td>\n",
       "      <td>73.303010</td>\n",
       "      <td>232.250643</td>\n",
       "    </tr>\n",
       "    <tr>\n",
       "      <th>1115</th>\n",
       "      <td>Male</td>\n",
       "      <td>72.871539</td>\n",
       "      <td>229.740753</td>\n",
       "    </tr>\n",
       "    <tr>\n",
       "      <th>1154</th>\n",
       "      <td>Male</td>\n",
       "      <td>73.611985</td>\n",
       "      <td>236.780538</td>\n",
       "    </tr>\n",
       "    <tr>\n",
       "      <th>1328</th>\n",
       "      <td>Male</td>\n",
       "      <td>76.294184</td>\n",
       "      <td>233.503811</td>\n",
       "    </tr>\n",
       "    <tr>\n",
       "      <th>1435</th>\n",
       "      <td>Male</td>\n",
       "      <td>74.687093</td>\n",
       "      <td>230.136923</td>\n",
       "    </tr>\n",
       "    <tr>\n",
       "      <th>1533</th>\n",
       "      <td>Male</td>\n",
       "      <td>75.819040</td>\n",
       "      <td>230.939454</td>\n",
       "    </tr>\n",
       "    <tr>\n",
       "      <th>1568</th>\n",
       "      <td>Male</td>\n",
       "      <td>76.456578</td>\n",
       "      <td>239.581389</td>\n",
       "    </tr>\n",
       "    <tr>\n",
       "      <th>1696</th>\n",
       "      <td>Male</td>\n",
       "      <td>75.682808</td>\n",
       "      <td>232.104476</td>\n",
       "    </tr>\n",
       "    <tr>\n",
       "      <th>1898</th>\n",
       "      <td>Male</td>\n",
       "      <td>72.439501</td>\n",
       "      <td>230.234110</td>\n",
       "    </tr>\n",
       "    <tr>\n",
       "      <th>1922</th>\n",
       "      <td>Male</td>\n",
       "      <td>77.446620</td>\n",
       "      <td>232.651079</td>\n",
       "    </tr>\n",
       "    <tr>\n",
       "      <th>1954</th>\n",
       "      <td>Male</td>\n",
       "      <td>76.116675</td>\n",
       "      <td>240.638103</td>\n",
       "    </tr>\n",
       "    <tr>\n",
       "      <th>2074</th>\n",
       "      <td>Male</td>\n",
       "      <td>75.624031</td>\n",
       "      <td>241.202330</td>\n",
       "    </tr>\n",
       "    <tr>\n",
       "      <th>2138</th>\n",
       "      <td>Male</td>\n",
       "      <td>76.569274</td>\n",
       "      <td>229.858095</td>\n",
       "    </tr>\n",
       "    <tr>\n",
       "      <th>2248</th>\n",
       "      <td>Male</td>\n",
       "      <td>74.880308</td>\n",
       "      <td>236.360678</td>\n",
       "    </tr>\n",
       "    <tr>\n",
       "      <th>2326</th>\n",
       "      <td>Male</td>\n",
       "      <td>75.993360</td>\n",
       "      <td>231.347401</td>\n",
       "    </tr>\n",
       "    <tr>\n",
       "      <th>2332</th>\n",
       "      <td>Male</td>\n",
       "      <td>75.694314</td>\n",
       "      <td>235.136674</td>\n",
       "    </tr>\n",
       "    <tr>\n",
       "      <th>2448</th>\n",
       "      <td>Male</td>\n",
       "      <td>74.242293</td>\n",
       "      <td>232.232647</td>\n",
       "    </tr>\n",
       "    <tr>\n",
       "      <th>2477</th>\n",
       "      <td>Male</td>\n",
       "      <td>73.084894</td>\n",
       "      <td>230.678778</td>\n",
       "    </tr>\n",
       "    <tr>\n",
       "      <th>2607</th>\n",
       "      <td>Male</td>\n",
       "      <td>74.814052</td>\n",
       "      <td>232.209377</td>\n",
       "    </tr>\n",
       "    <tr>\n",
       "      <th>2708</th>\n",
       "      <td>Male</td>\n",
       "      <td>75.946866</td>\n",
       "      <td>237.567608</td>\n",
       "    </tr>\n",
       "    <tr>\n",
       "      <th>2717</th>\n",
       "      <td>Male</td>\n",
       "      <td>73.696859</td>\n",
       "      <td>232.718678</td>\n",
       "    </tr>\n",
       "    <tr>\n",
       "      <th>2766</th>\n",
       "      <td>Male</td>\n",
       "      <td>74.400658</td>\n",
       "      <td>240.942267</td>\n",
       "    </tr>\n",
       "    <tr>\n",
       "      <th>3090</th>\n",
       "      <td>Male</td>\n",
       "      <td>74.112304</td>\n",
       "      <td>240.851729</td>\n",
       "    </tr>\n",
       "    <tr>\n",
       "      <th>3450</th>\n",
       "      <td>Male</td>\n",
       "      <td>75.441058</td>\n",
       "      <td>230.987022</td>\n",
       "    </tr>\n",
       "    <tr>\n",
       "      <th>3487</th>\n",
       "      <td>Male</td>\n",
       "      <td>74.971936</td>\n",
       "      <td>237.575314</td>\n",
       "    </tr>\n",
       "    <tr>\n",
       "      <th>3531</th>\n",
       "      <td>Male</td>\n",
       "      <td>75.824463</td>\n",
       "      <td>230.438237</td>\n",
       "    </tr>\n",
       "    <tr>\n",
       "      <th>3657</th>\n",
       "      <td>Male</td>\n",
       "      <td>74.568732</td>\n",
       "      <td>234.809180</td>\n",
       "    </tr>\n",
       "    <tr>\n",
       "      <th>3757</th>\n",
       "      <td>Male</td>\n",
       "      <td>78.621374</td>\n",
       "      <td>245.733783</td>\n",
       "    </tr>\n",
       "    <tr>\n",
       "      <th>3816</th>\n",
       "      <td>Male</td>\n",
       "      <td>76.719985</td>\n",
       "      <td>236.146730</td>\n",
       "    </tr>\n",
       "    <tr>\n",
       "      <th>3918</th>\n",
       "      <td>Male</td>\n",
       "      <td>76.537161</td>\n",
       "      <td>243.267497</td>\n",
       "    </tr>\n",
       "    <tr>\n",
       "      <th>4086</th>\n",
       "      <td>Male</td>\n",
       "      <td>75.579444</td>\n",
       "      <td>239.333840</td>\n",
       "    </tr>\n",
       "    <tr>\n",
       "      <th>4272</th>\n",
       "      <td>Male</td>\n",
       "      <td>73.158642</td>\n",
       "      <td>230.994905</td>\n",
       "    </tr>\n",
       "    <tr>\n",
       "      <th>4275</th>\n",
       "      <td>Male</td>\n",
       "      <td>76.866855</td>\n",
       "      <td>240.536797</td>\n",
       "    </tr>\n",
       "    <tr>\n",
       "      <th>4297</th>\n",
       "      <td>Male</td>\n",
       "      <td>77.100872</td>\n",
       "      <td>240.455352</td>\n",
       "    </tr>\n",
       "    <tr>\n",
       "      <th>4302</th>\n",
       "      <td>Male</td>\n",
       "      <td>76.690963</td>\n",
       "      <td>233.158692</td>\n",
       "    </tr>\n",
       "    <tr>\n",
       "      <th>4400</th>\n",
       "      <td>Male</td>\n",
       "      <td>76.600183</td>\n",
       "      <td>239.697207</td>\n",
       "    </tr>\n",
       "    <tr>\n",
       "      <th>4422</th>\n",
       "      <td>Male</td>\n",
       "      <td>76.482319</td>\n",
       "      <td>230.794196</td>\n",
       "    </tr>\n",
       "    <tr>\n",
       "      <th>4569</th>\n",
       "      <td>Male</td>\n",
       "      <td>77.547186</td>\n",
       "      <td>242.041173</td>\n",
       "    </tr>\n",
       "    <tr>\n",
       "      <th>4577</th>\n",
       "      <td>Male</td>\n",
       "      <td>73.166638</td>\n",
       "      <td>232.761166</td>\n",
       "    </tr>\n",
       "    <tr>\n",
       "      <th>4692</th>\n",
       "      <td>Male</td>\n",
       "      <td>73.706027</td>\n",
       "      <td>231.697887</td>\n",
       "    </tr>\n",
       "    <tr>\n",
       "      <th>4701</th>\n",
       "      <td>Male</td>\n",
       "      <td>76.732446</td>\n",
       "      <td>241.686601</td>\n",
       "    </tr>\n",
       "    <tr>\n",
       "      <th>4721</th>\n",
       "      <td>Male</td>\n",
       "      <td>75.330847</td>\n",
       "      <td>240.440816</td>\n",
       "    </tr>\n",
       "  </tbody>\n",
       "</table>\n",
       "</div>"
      ],
      "text/plain": [
       "     Gender     Height      Weight\n",
       "0      Male  73.847017  241.893563\n",
       "82     Male  73.826127  237.916736\n",
       "190    Male  76.709835  235.035419\n",
       "191    Male  72.571121  230.560535\n",
       "197    Male  75.944460  231.924748\n",
       "215    Male  74.795375  232.635403\n",
       "232    Male  76.021347  235.926061\n",
       "248    Male  73.815386  231.374508\n",
       "263    Male  74.221175  231.130190\n",
       "290    Male  74.785714  239.464343\n",
       "430    Male  76.027082  232.313471\n",
       "632    Male  75.033889  232.886117\n",
       "683    Male  73.759636  231.608671\n",
       "741    Male  76.012300  235.437966\n",
       "900    Male  74.216431  238.569451\n",
       "1030   Male  73.303010  232.250643\n",
       "1115   Male  72.871539  229.740753\n",
       "1154   Male  73.611985  236.780538\n",
       "1328   Male  76.294184  233.503811\n",
       "1435   Male  74.687093  230.136923\n",
       "1533   Male  75.819040  230.939454\n",
       "1568   Male  76.456578  239.581389\n",
       "1696   Male  75.682808  232.104476\n",
       "1898   Male  72.439501  230.234110\n",
       "1922   Male  77.446620  232.651079\n",
       "1954   Male  76.116675  240.638103\n",
       "2074   Male  75.624031  241.202330\n",
       "2138   Male  76.569274  229.858095\n",
       "2248   Male  74.880308  236.360678\n",
       "2326   Male  75.993360  231.347401\n",
       "2332   Male  75.694314  235.136674\n",
       "2448   Male  74.242293  232.232647\n",
       "2477   Male  73.084894  230.678778\n",
       "2607   Male  74.814052  232.209377\n",
       "2708   Male  75.946866  237.567608\n",
       "2717   Male  73.696859  232.718678\n",
       "2766   Male  74.400658  240.942267\n",
       "3090   Male  74.112304  240.851729\n",
       "3450   Male  75.441058  230.987022\n",
       "3487   Male  74.971936  237.575314\n",
       "3531   Male  75.824463  230.438237\n",
       "3657   Male  74.568732  234.809180\n",
       "3757   Male  78.621374  245.733783\n",
       "3816   Male  76.719985  236.146730\n",
       "3918   Male  76.537161  243.267497\n",
       "4086   Male  75.579444  239.333840\n",
       "4272   Male  73.158642  230.994905\n",
       "4275   Male  76.866855  240.536797\n",
       "4297   Male  77.100872  240.455352\n",
       "4302   Male  76.690963  233.158692\n",
       "4400   Male  76.600183  239.697207\n",
       "4422   Male  76.482319  230.794196\n",
       "4569   Male  77.547186  242.041173\n",
       "4577   Male  73.166638  232.761166\n",
       "4692   Male  73.706027  231.697887\n",
       "4701   Male  76.732446  241.686601\n",
       "4721   Male  75.330847  240.440816"
      ]
     },
     "execution_count": 26,
     "metadata": {},
     "output_type": "execute_result"
    }
   ],
   "source": [
    "df[df.Weight > standard_deviation_plus]"
   ]
  },
  {
   "cell_type": "code",
   "execution_count": 27,
   "id": "f84c6851",
   "metadata": {},
   "outputs": [],
   "source": [
    "standard_deviation_minuse = mean - (2*standard_deviation)"
   ]
  },
  {
   "cell_type": "code",
   "execution_count": 28,
   "id": "ba24d1e3",
   "metadata": {},
   "outputs": [
    {
     "data": {
      "text/plain": [
       "101.54489089224582"
      ]
     },
     "execution_count": 28,
     "metadata": {},
     "output_type": "execute_result"
    }
   ],
   "source": [
    "standard_deviation_minuse"
   ]
  },
  {
   "cell_type": "code",
   "execution_count": 29,
   "id": "44e4da29",
   "metadata": {},
   "outputs": [
    {
     "data": {
      "text/html": [
       "<div>\n",
       "<style scoped>\n",
       "    .dataframe tbody tr th:only-of-type {\n",
       "        vertical-align: middle;\n",
       "    }\n",
       "\n",
       "    .dataframe tbody tr th {\n",
       "        vertical-align: top;\n",
       "    }\n",
       "\n",
       "    .dataframe thead th {\n",
       "        text-align: right;\n",
       "    }\n",
       "</style>\n",
       "<table border=\"1\" class=\"dataframe\">\n",
       "  <thead>\n",
       "    <tr style=\"text-align: right;\">\n",
       "      <th></th>\n",
       "      <th>Gender</th>\n",
       "      <th>Height</th>\n",
       "      <th>Weight</th>\n",
       "    </tr>\n",
       "  </thead>\n",
       "  <tbody>\n",
       "    <tr>\n",
       "      <th>5014</th>\n",
       "      <td>Female</td>\n",
       "      <td>58.438249</td>\n",
       "      <td>98.192621</td>\n",
       "    </tr>\n",
       "    <tr>\n",
       "      <th>5069</th>\n",
       "      <td>Female</td>\n",
       "      <td>61.213172</td>\n",
       "      <td>98.707493</td>\n",
       "    </tr>\n",
       "    <tr>\n",
       "      <th>5074</th>\n",
       "      <td>Female</td>\n",
       "      <td>56.159458</td>\n",
       "      <td>90.815256</td>\n",
       "    </tr>\n",
       "    <tr>\n",
       "      <th>5122</th>\n",
       "      <td>Female</td>\n",
       "      <td>57.103869</td>\n",
       "      <td>93.506316</td>\n",
       "    </tr>\n",
       "    <tr>\n",
       "      <th>5123</th>\n",
       "      <td>Female</td>\n",
       "      <td>56.445685</td>\n",
       "      <td>96.640245</td>\n",
       "    </tr>\n",
       "    <tr>\n",
       "      <th>...</th>\n",
       "      <td>...</td>\n",
       "      <td>...</td>\n",
       "      <td>...</td>\n",
       "    </tr>\n",
       "    <tr>\n",
       "      <th>8357</th>\n",
       "      <td>Female</td>\n",
       "      <td>60.000657</td>\n",
       "      <td>95.625638</td>\n",
       "    </tr>\n",
       "    <tr>\n",
       "      <th>8363</th>\n",
       "      <td>Female</td>\n",
       "      <td>59.408341</td>\n",
       "      <td>101.217203</td>\n",
       "    </tr>\n",
       "    <tr>\n",
       "      <th>8364</th>\n",
       "      <td>Female</td>\n",
       "      <td>60.575315</td>\n",
       "      <td>99.286298</td>\n",
       "    </tr>\n",
       "    <tr>\n",
       "      <th>8442</th>\n",
       "      <td>Female</td>\n",
       "      <td>61.318284</td>\n",
       "      <td>97.107504</td>\n",
       "    </tr>\n",
       "    <tr>\n",
       "      <th>8514</th>\n",
       "      <td>Female</td>\n",
       "      <td>58.155888</td>\n",
       "      <td>95.678872</td>\n",
       "    </tr>\n",
       "  </tbody>\n",
       "</table>\n",
       "<p>126 rows × 3 columns</p>\n",
       "</div>"
      ],
      "text/plain": [
       "      Gender     Height      Weight\n",
       "5014  Female  58.438249   98.192621\n",
       "5069  Female  61.213172   98.707493\n",
       "5074  Female  56.159458   90.815256\n",
       "5122  Female  57.103869   93.506316\n",
       "5123  Female  56.445685   96.640245\n",
       "...      ...        ...         ...\n",
       "8357  Female  60.000657   95.625638\n",
       "8363  Female  59.408341  101.217203\n",
       "8364  Female  60.575315   99.286298\n",
       "8442  Female  61.318284   97.107504\n",
       "8514  Female  58.155888   95.678872\n",
       "\n",
       "[126 rows x 3 columns]"
      ]
     },
     "execution_count": 29,
     "metadata": {},
     "output_type": "execute_result"
    }
   ],
   "source": [
    "df[df.Weight < standard_deviation_minuse]"
   ]
  },
  {
   "cell_type": "code",
   "execution_count": 30,
   "id": "53eab05f",
   "metadata": {},
   "outputs": [],
   "source": [
    "out = df[(df.Weight < standard_deviation_plus) & (df.Weight > standard_deviation_minuse)]"
   ]
  },
  {
   "cell_type": "code",
   "execution_count": 31,
   "id": "c32bb852",
   "metadata": {},
   "outputs": [],
   "source": [
    "df = out"
   ]
  },
  {
   "cell_type": "code",
   "execution_count": 32,
   "id": "de5ebcb8",
   "metadata": {},
   "outputs": [
    {
     "data": {
      "text/plain": [
       "(8345, 3)"
      ]
     },
     "execution_count": 32,
     "metadata": {},
     "output_type": "execute_result"
    }
   ],
   "source": [
    "df.shape"
   ]
  },
  {
   "cell_type": "code",
   "execution_count": 33,
   "id": "04d5419a",
   "metadata": {},
   "outputs": [
    {
     "data": {
      "text/html": [
       "<div>\n",
       "<style scoped>\n",
       "    .dataframe tbody tr th:only-of-type {\n",
       "        vertical-align: middle;\n",
       "    }\n",
       "\n",
       "    .dataframe tbody tr th {\n",
       "        vertical-align: top;\n",
       "    }\n",
       "\n",
       "    .dataframe thead th {\n",
       "        text-align: right;\n",
       "    }\n",
       "</style>\n",
       "<table border=\"1\" class=\"dataframe\">\n",
       "  <thead>\n",
       "    <tr style=\"text-align: right;\">\n",
       "      <th></th>\n",
       "      <th>Gender</th>\n",
       "      <th>Height</th>\n",
       "      <th>Weight</th>\n",
       "    </tr>\n",
       "  </thead>\n",
       "  <tbody>\n",
       "    <tr>\n",
       "      <th>1</th>\n",
       "      <td>Male</td>\n",
       "      <td>68.781904</td>\n",
       "      <td>162.310473</td>\n",
       "    </tr>\n",
       "    <tr>\n",
       "      <th>2</th>\n",
       "      <td>Male</td>\n",
       "      <td>74.110105</td>\n",
       "      <td>212.740856</td>\n",
       "    </tr>\n",
       "    <tr>\n",
       "      <th>3</th>\n",
       "      <td>Male</td>\n",
       "      <td>71.730978</td>\n",
       "      <td>220.042470</td>\n",
       "    </tr>\n",
       "    <tr>\n",
       "      <th>4</th>\n",
       "      <td>Male</td>\n",
       "      <td>69.881796</td>\n",
       "      <td>206.349801</td>\n",
       "    </tr>\n",
       "    <tr>\n",
       "      <th>5</th>\n",
       "      <td>Male</td>\n",
       "      <td>67.253016</td>\n",
       "      <td>152.212156</td>\n",
       "    </tr>\n",
       "    <tr>\n",
       "      <th>...</th>\n",
       "      <td>...</td>\n",
       "      <td>...</td>\n",
       "      <td>...</td>\n",
       "    </tr>\n",
       "    <tr>\n",
       "      <th>8550</th>\n",
       "      <td>Female</td>\n",
       "      <td>60.483946</td>\n",
       "      <td>110.565497</td>\n",
       "    </tr>\n",
       "    <tr>\n",
       "      <th>8551</th>\n",
       "      <td>Female</td>\n",
       "      <td>63.423372</td>\n",
       "      <td>129.921671</td>\n",
       "    </tr>\n",
       "    <tr>\n",
       "      <th>8552</th>\n",
       "      <td>Female</td>\n",
       "      <td>65.584057</td>\n",
       "      <td>155.942671</td>\n",
       "    </tr>\n",
       "    <tr>\n",
       "      <th>8553</th>\n",
       "      <td>Female</td>\n",
       "      <td>67.429971</td>\n",
       "      <td>151.678405</td>\n",
       "    </tr>\n",
       "    <tr>\n",
       "      <th>8554</th>\n",
       "      <td>Female</td>\n",
       "      <td>60.921791</td>\n",
       "      <td>131.253738</td>\n",
       "    </tr>\n",
       "  </tbody>\n",
       "</table>\n",
       "<p>8345 rows × 3 columns</p>\n",
       "</div>"
      ],
      "text/plain": [
       "      Gender     Height      Weight\n",
       "1       Male  68.781904  162.310473\n",
       "2       Male  74.110105  212.740856\n",
       "3       Male  71.730978  220.042470\n",
       "4       Male  69.881796  206.349801\n",
       "5       Male  67.253016  152.212156\n",
       "...      ...        ...         ...\n",
       "8550  Female  60.483946  110.565497\n",
       "8551  Female  63.423372  129.921671\n",
       "8552  Female  65.584057  155.942671\n",
       "8553  Female  67.429971  151.678405\n",
       "8554  Female  60.921791  131.253738\n",
       "\n",
       "[8345 rows x 3 columns]"
      ]
     },
     "execution_count": 33,
     "metadata": {},
     "output_type": "execute_result"
    }
   ],
   "source": [
    "df"
   ]
  },
  {
   "cell_type": "code",
   "execution_count": 21,
   "id": "955d5287",
   "metadata": {},
   "outputs": [
    {
     "data": {
      "text/plain": [
       "-27"
      ]
     },
     "execution_count": 21,
     "metadata": {},
     "output_type": "execute_result"
    }
   ],
   "source": [
    "8528 - 8555"
   ]
  },
  {
   "cell_type": "code",
   "execution_count": 34,
   "id": "bccbb7dd",
   "metadata": {},
   "outputs": [
    {
     "data": {
      "text/plain": [
       "<AxesSubplot:xlabel='Weight', ylabel='Count'>"
      ]
     },
     "execution_count": 34,
     "metadata": {},
     "output_type": "execute_result"
    },
    {
     "data": {
      "image/png": "[encoded data removed]",
      "text/plain": [
       "<Figure size 432x288 with 1 Axes>"
      ]
     },
     "metadata": {
      "needs_background": "light"
     },
     "output_type": "display_data"
    }
   ],
   "source": [
    "sns.histplot(df['Weight'], kde=True)"
   ]
  },
  {
   "cell_type": "markdown",
   "id": "58b5e930",
   "metadata": {},
   "source": [
    "# Z SCORE"
   ]
  },
  {
   "cell_type": "code",
   "execution_count": 41,
   "id": "adaa795b",
   "metadata": {},
   "outputs": [
    {
     "data": {
      "text/html": [
       "<div>\n",
       "<style scoped>\n",
       "    .dataframe tbody tr th:only-of-type {\n",
       "        vertical-align: middle;\n",
       "    }\n",
       "\n",
       "    .dataframe tbody tr th {\n",
       "        vertical-align: top;\n",
       "    }\n",
       "\n",
       "    .dataframe thead th {\n",
       "        text-align: right;\n",
       "    }\n",
       "</style>\n",
       "<table border=\"1\" class=\"dataframe\">\n",
       "  <thead>\n",
       "    <tr style=\"text-align: right;\">\n",
       "      <th></th>\n",
       "      <th>Gender</th>\n",
       "      <th>Height</th>\n",
       "      <th>Weight</th>\n",
       "    </tr>\n",
       "  </thead>\n",
       "  <tbody>\n",
       "    <tr>\n",
       "      <th>0</th>\n",
       "      <td>Male</td>\n",
       "      <td>73.847017</td>\n",
       "      <td>241.893563</td>\n",
       "    </tr>\n",
       "    <tr>\n",
       "      <th>1</th>\n",
       "      <td>Male</td>\n",
       "      <td>68.781904</td>\n",
       "      <td>162.310473</td>\n",
       "    </tr>\n",
       "    <tr>\n",
       "      <th>2</th>\n",
       "      <td>Male</td>\n",
       "      <td>74.110105</td>\n",
       "      <td>212.740856</td>\n",
       "    </tr>\n",
       "    <tr>\n",
       "      <th>3</th>\n",
       "      <td>Male</td>\n",
       "      <td>71.730978</td>\n",
       "      <td>220.042470</td>\n",
       "    </tr>\n",
       "    <tr>\n",
       "      <th>4</th>\n",
       "      <td>Male</td>\n",
       "      <td>69.881796</td>\n",
       "      <td>206.349801</td>\n",
       "    </tr>\n",
       "  </tbody>\n",
       "</table>\n",
       "</div>"
      ],
      "text/plain": [
       "  Gender     Height      Weight\n",
       "0   Male  73.847017  241.893563\n",
       "1   Male  68.781904  162.310473\n",
       "2   Male  74.110105  212.740856\n",
       "3   Male  71.730978  220.042470\n",
       "4   Male  69.881796  206.349801"
      ]
     },
     "execution_count": 41,
     "metadata": {},
     "output_type": "execute_result"
    }
   ],
   "source": [
    "df = pd.read_csv('weight-height.csv')\n",
    "df.head()"
   ]
  },
  {
   "cell_type": "code",
   "execution_count": 42,
   "id": "aba59dc0",
   "metadata": {},
   "outputs": [],
   "source": [
    "df['ZScores_Weight']=( df.Weight - df.Weight.mean() ) / df.Weight.std()"
   ]
  },
  {
   "cell_type": "code",
   "execution_count": 43,
   "id": "cf609b1e",
   "metadata": {},
   "outputs": [
    {
     "data": {
      "text/html": [
       "<div>\n",
       "<style scoped>\n",
       "    .dataframe tbody tr th:only-of-type {\n",
       "        vertical-align: middle;\n",
       "    }\n",
       "\n",
       "    .dataframe tbody tr th {\n",
       "        vertical-align: top;\n",
       "    }\n",
       "\n",
       "    .dataframe thead th {\n",
       "        text-align: right;\n",
       "    }\n",
       "</style>\n",
       "<table border=\"1\" class=\"dataframe\">\n",
       "  <thead>\n",
       "    <tr style=\"text-align: right;\">\n",
       "      <th></th>\n",
       "      <th>Gender</th>\n",
       "      <th>Height</th>\n",
       "      <th>Weight</th>\n",
       "      <th>ZScores_Weight</th>\n",
       "    </tr>\n",
       "  </thead>\n",
       "  <tbody>\n",
       "    <tr>\n",
       "      <th>0</th>\n",
       "      <td>Male</td>\n",
       "      <td>73.847017</td>\n",
       "      <td>241.893563</td>\n",
       "      <td>2.379884</td>\n",
       "    </tr>\n",
       "    <tr>\n",
       "      <th>1</th>\n",
       "      <td>Male</td>\n",
       "      <td>68.781904</td>\n",
       "      <td>162.310473</td>\n",
       "      <td>-0.103678</td>\n",
       "    </tr>\n",
       "    <tr>\n",
       "      <th>2</th>\n",
       "      <td>Male</td>\n",
       "      <td>74.110105</td>\n",
       "      <td>212.740856</td>\n",
       "      <td>1.470111</td>\n",
       "    </tr>\n",
       "    <tr>\n",
       "      <th>3</th>\n",
       "      <td>Male</td>\n",
       "      <td>71.730978</td>\n",
       "      <td>220.042470</td>\n",
       "      <td>1.697974</td>\n",
       "    </tr>\n",
       "    <tr>\n",
       "      <th>4</th>\n",
       "      <td>Male</td>\n",
       "      <td>69.881796</td>\n",
       "      <td>206.349801</td>\n",
       "      <td>1.270664</td>\n",
       "    </tr>\n",
       "    <tr>\n",
       "      <th>...</th>\n",
       "      <td>...</td>\n",
       "      <td>...</td>\n",
       "      <td>...</td>\n",
       "      <td>...</td>\n",
       "    </tr>\n",
       "    <tr>\n",
       "      <th>8550</th>\n",
       "      <td>Female</td>\n",
       "      <td>60.483946</td>\n",
       "      <td>110.565497</td>\n",
       "      <td>-1.718492</td>\n",
       "    </tr>\n",
       "    <tr>\n",
       "      <th>8551</th>\n",
       "      <td>Female</td>\n",
       "      <td>63.423372</td>\n",
       "      <td>129.921671</td>\n",
       "      <td>-1.114441</td>\n",
       "    </tr>\n",
       "    <tr>\n",
       "      <th>8552</th>\n",
       "      <td>Female</td>\n",
       "      <td>65.584057</td>\n",
       "      <td>155.942671</td>\n",
       "      <td>-0.302399</td>\n",
       "    </tr>\n",
       "    <tr>\n",
       "      <th>8553</th>\n",
       "      <td>Female</td>\n",
       "      <td>67.429971</td>\n",
       "      <td>151.678405</td>\n",
       "      <td>-0.435475</td>\n",
       "    </tr>\n",
       "    <tr>\n",
       "      <th>8554</th>\n",
       "      <td>Female</td>\n",
       "      <td>60.921791</td>\n",
       "      <td>131.253738</td>\n",
       "      <td>-1.072871</td>\n",
       "    </tr>\n",
       "  </tbody>\n",
       "</table>\n",
       "<p>8555 rows × 4 columns</p>\n",
       "</div>"
      ],
      "text/plain": [
       "      Gender     Height      Weight  ZScores_Weight\n",
       "0       Male  73.847017  241.893563        2.379884\n",
       "1       Male  68.781904  162.310473       -0.103678\n",
       "2       Male  74.110105  212.740856        1.470111\n",
       "3       Male  71.730978  220.042470        1.697974\n",
       "4       Male  69.881796  206.349801        1.270664\n",
       "...      ...        ...         ...             ...\n",
       "8550  Female  60.483946  110.565497       -1.718492\n",
       "8551  Female  63.423372  129.921671       -1.114441\n",
       "8552  Female  65.584057  155.942671       -0.302399\n",
       "8553  Female  67.429971  151.678405       -0.435475\n",
       "8554  Female  60.921791  131.253738       -1.072871\n",
       "\n",
       "[8555 rows x 4 columns]"
      ]
     },
     "execution_count": 43,
     "metadata": {},
     "output_type": "execute_result"
    }
   ],
   "source": [
    "df"
   ]
  },
  {
   "cell_type": "code",
   "execution_count": 44,
   "id": "e0e1577a",
   "metadata": {},
   "outputs": [],
   "source": [
    "minz = df.ZScores_Weight.min()"
   ]
  },
  {
   "cell_type": "code",
   "execution_count": 45,
   "id": "f6d703d0",
   "metadata": {},
   "outputs": [],
   "source": [
    "maxz = df.ZScores_Weight.max()"
   ]
  },
  {
   "cell_type": "code",
   "execution_count": 46,
   "id": "c5b8cd7a",
   "metadata": {},
   "outputs": [
    {
     "data": {
      "text/plain": [
       "3.256685073254194"
      ]
     },
     "execution_count": 46,
     "metadata": {},
     "output_type": "execute_result"
    }
   ],
   "source": [
    "maxz"
   ]
  },
  {
   "cell_type": "code",
   "execution_count": 47,
   "id": "0c648f67",
   "metadata": {},
   "outputs": [
    {
     "data": {
      "text/plain": [
       "-3.1161208871312986"
      ]
     },
     "execution_count": 47,
     "metadata": {},
     "output_type": "execute_result"
    }
   ],
   "source": [
    "minz"
   ]
  },
  {
   "cell_type": "code",
   "execution_count": 51,
   "id": "a8046089",
   "metadata": {},
   "outputs": [],
   "source": [
    "out2 = df[(df.ZScores_Weight<2) & (df.ZScores_Weight>-2)]"
   ]
  },
  {
   "cell_type": "code",
   "execution_count": 52,
   "id": "8fe95022",
   "metadata": {},
   "outputs": [
    {
     "data": {
      "text/html": [
       "<div>\n",
       "<style scoped>\n",
       "    .dataframe tbody tr th:only-of-type {\n",
       "        vertical-align: middle;\n",
       "    }\n",
       "\n",
       "    .dataframe tbody tr th {\n",
       "        vertical-align: top;\n",
       "    }\n",
       "\n",
       "    .dataframe thead th {\n",
       "        text-align: right;\n",
       "    }\n",
       "</style>\n",
       "<table border=\"1\" class=\"dataframe\">\n",
       "  <thead>\n",
       "    <tr style=\"text-align: right;\">\n",
       "      <th></th>\n",
       "      <th>Gender</th>\n",
       "      <th>Height</th>\n",
       "      <th>Weight</th>\n",
       "      <th>ZScores_Weight</th>\n",
       "    </tr>\n",
       "  </thead>\n",
       "  <tbody>\n",
       "    <tr>\n",
       "      <th>1</th>\n",
       "      <td>Male</td>\n",
       "      <td>68.781904</td>\n",
       "      <td>162.310473</td>\n",
       "      <td>-0.103678</td>\n",
       "    </tr>\n",
       "    <tr>\n",
       "      <th>2</th>\n",
       "      <td>Male</td>\n",
       "      <td>74.110105</td>\n",
       "      <td>212.740856</td>\n",
       "      <td>1.470111</td>\n",
       "    </tr>\n",
       "    <tr>\n",
       "      <th>3</th>\n",
       "      <td>Male</td>\n",
       "      <td>71.730978</td>\n",
       "      <td>220.042470</td>\n",
       "      <td>1.697974</td>\n",
       "    </tr>\n",
       "    <tr>\n",
       "      <th>4</th>\n",
       "      <td>Male</td>\n",
       "      <td>69.881796</td>\n",
       "      <td>206.349801</td>\n",
       "      <td>1.270664</td>\n",
       "    </tr>\n",
       "    <tr>\n",
       "      <th>5</th>\n",
       "      <td>Male</td>\n",
       "      <td>67.253016</td>\n",
       "      <td>152.212156</td>\n",
       "      <td>-0.418818</td>\n",
       "    </tr>\n",
       "    <tr>\n",
       "      <th>...</th>\n",
       "      <td>...</td>\n",
       "      <td>...</td>\n",
       "      <td>...</td>\n",
       "      <td>...</td>\n",
       "    </tr>\n",
       "    <tr>\n",
       "      <th>8550</th>\n",
       "      <td>Female</td>\n",
       "      <td>60.483946</td>\n",
       "      <td>110.565497</td>\n",
       "      <td>-1.718492</td>\n",
       "    </tr>\n",
       "    <tr>\n",
       "      <th>8551</th>\n",
       "      <td>Female</td>\n",
       "      <td>63.423372</td>\n",
       "      <td>129.921671</td>\n",
       "      <td>-1.114441</td>\n",
       "    </tr>\n",
       "    <tr>\n",
       "      <th>8552</th>\n",
       "      <td>Female</td>\n",
       "      <td>65.584057</td>\n",
       "      <td>155.942671</td>\n",
       "      <td>-0.302399</td>\n",
       "    </tr>\n",
       "    <tr>\n",
       "      <th>8553</th>\n",
       "      <td>Female</td>\n",
       "      <td>67.429971</td>\n",
       "      <td>151.678405</td>\n",
       "      <td>-0.435475</td>\n",
       "    </tr>\n",
       "    <tr>\n",
       "      <th>8554</th>\n",
       "      <td>Female</td>\n",
       "      <td>60.921791</td>\n",
       "      <td>131.253738</td>\n",
       "      <td>-1.072871</td>\n",
       "    </tr>\n",
       "  </tbody>\n",
       "</table>\n",
       "<p>8345 rows × 4 columns</p>\n",
       "</div>"
      ],
      "text/plain": [
       "      Gender     Height      Weight  ZScores_Weight\n",
       "1       Male  68.781904  162.310473       -0.103678\n",
       "2       Male  74.110105  212.740856        1.470111\n",
       "3       Male  71.730978  220.042470        1.697974\n",
       "4       Male  69.881796  206.349801        1.270664\n",
       "5       Male  67.253016  152.212156       -0.418818\n",
       "...      ...        ...         ...             ...\n",
       "8550  Female  60.483946  110.565497       -1.718492\n",
       "8551  Female  63.423372  129.921671       -1.114441\n",
       "8552  Female  65.584057  155.942671       -0.302399\n",
       "8553  Female  67.429971  151.678405       -0.435475\n",
       "8554  Female  60.921791  131.253738       -1.072871\n",
       "\n",
       "[8345 rows x 4 columns]"
      ]
     },
     "execution_count": 52,
     "metadata": {},
     "output_type": "execute_result"
    }
   ],
   "source": [
    "out2"
   ]
  },
  {
   "cell_type": "code",
   "execution_count": 53,
   "id": "37324e97",
   "metadata": {},
   "outputs": [],
   "source": [
    "df  = out2"
   ]
  },
  {
   "cell_type": "code",
   "execution_count": 54,
   "id": "bd0399b4",
   "metadata": {},
   "outputs": [
    {
     "data": {
      "text/plain": [
       "(8345, 4)"
      ]
     },
     "execution_count": 54,
     "metadata": {},
     "output_type": "execute_result"
    }
   ],
   "source": [
    "df.shape"
   ]
  },
  {
   "cell_type": "code",
   "execution_count": null,
   "id": "2112f946",
   "metadata": {},
   "outputs": [],
   "source": []
  }
 ],
 "metadata": {
  "kernelspec": {
   "display_name": "Python 3",
   "language": "python",
   "name": "python3"
  },
  "language_info": {
   "codemirror_mode": {
    "name": "ipython",
    "version": 3
   },
   "file_extension": ".py",
   "mimetype": "text/x-python",
   "name": "python",
   "nbconvert_exporter": "python",
   "pygments_lexer": "ipython3",
   "version": "3.8.9"
  }
 },
 "nbformat": 4,
 "nbformat_minor": 5
}
