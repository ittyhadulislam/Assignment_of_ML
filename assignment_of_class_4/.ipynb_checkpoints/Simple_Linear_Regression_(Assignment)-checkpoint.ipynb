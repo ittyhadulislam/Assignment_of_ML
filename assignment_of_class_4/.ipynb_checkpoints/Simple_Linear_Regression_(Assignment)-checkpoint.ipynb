{
 "cells": [
  {
   "cell_type": "code",
   "execution_count": 1,
   "id": "67f12e74",
   "metadata": {},
   "outputs": [],
   "source": [
    "import numpy as np\n",
    "import pandas as pd\n",
    "import matplotlib.pyplot as plt"
   ]
  },
  {
   "cell_type": "markdown",
   "id": "af09ca81",
   "metadata": {},
   "source": [
    "# Importing Dataset"
   ]
  },
  {
   "cell_type": "code",
   "execution_count": 2,
   "id": "ede29b67",
   "metadata": {},
   "outputs": [],
   "source": [
    "data = pd.read_csv(\"Body.csv\")"
   ]
  },
  {
   "cell_type": "code",
   "execution_count": 3,
   "id": "f41350d3",
   "metadata": {},
   "outputs": [],
   "source": [
    "x_data = data.iloc[:, :1].values\n",
    "y_data = data.iloc[:, 1].values"
   ]
  },
  {
   "cell_type": "markdown",
   "id": "7e16843c",
   "metadata": {},
   "source": [
    "# Spliting The Dataset"
   ]
  },
  {
   "cell_type": "code",
   "execution_count": 8,
   "id": "73c12310",
   "metadata": {},
   "outputs": [
    {
     "data": {
      "text/plain": [
       "array([[1.47],\n",
       "       [1.5 ],\n",
       "       [1.52],\n",
       "       [1.55],\n",
       "       [1.57],\n",
       "       [1.6 ],\n",
       "       [1.63],\n",
       "       [1.65],\n",
       "       [1.68],\n",
       "       [1.7 ],\n",
       "       [1.73],\n",
       "       [1.75],\n",
       "       [1.78],\n",
       "       [1.8 ],\n",
       "       [1.83],\n",
       "       [1.68],\n",
       "       [1.8 ],\n",
       "       [1.48],\n",
       "       [1.51],\n",
       "       [1.52],\n",
       "       [1.5 ],\n",
       "       [1.6 ],\n",
       "       [1.66],\n",
       "       [1.6 ],\n",
       "       [1.69],\n",
       "       [1.58],\n",
       "       [1.81],\n",
       "       [1.7 ],\n",
       "       [1.79],\n",
       "       [1.8 ],\n",
       "       [1.81]])"
      ]
     },
     "execution_count": 8,
     "metadata": {},
     "output_type": "execute_result"
    }
   ],
   "source": [
    "x_data"
   ]
  },
  {
   "cell_type": "code",
   "execution_count": 6,
   "id": "5d581611",
   "metadata": {},
   "outputs": [
    {
     "data": {
      "text/plain": [
       "array([52.21, 53.12, 54.5 , 55.84, 58.  , 58.57, 59.  , 61.29, 63.11,\n",
       "       64.5 , 66.28, 68.  , 69.92, 72.19, 74.46, 60.45, 75.  , 54.  ,\n",
       "       56.43, 53.5 , 57.3 , 60.  , 60.  , 65.08, 68.9 , 71.2 , 62.  ,\n",
       "       65.9 , 80.65, 71.  , 74.5 ])"
      ]
     },
     "execution_count": 6,
     "metadata": {},
     "output_type": "execute_result"
    }
   ],
   "source": [
    "y_data"
   ]
  },
  {
   "cell_type": "markdown",
   "id": "17a5ed5c",
   "metadata": {},
   "source": [
    "# Split with train and test data"
   ]
  },
  {
   "cell_type": "code",
   "execution_count": 10,
   "id": "21d5d5f4",
   "metadata": {},
   "outputs": [],
   "source": [
    "from sklearn.model_selection import train_test_split\n",
    "x_train, x_test, y_train, y_test = train_test_split(x_data, y_data, test_size = 0.3, random_state= 0)"
   ]
  },
  {
   "cell_type": "code",
   "execution_count": 15,
   "id": "bcd2c67d",
   "metadata": {},
   "outputs": [
    {
     "data": {
      "text/plain": [
       "array([[1.52],\n",
       "       [1.8 ],\n",
       "       [1.8 ],\n",
       "       [1.73],\n",
       "       [1.7 ],\n",
       "       [1.58],\n",
       "       [1.66],\n",
       "       [1.75],\n",
       "       [1.48],\n",
       "       [1.6 ]])"
      ]
     },
     "execution_count": 15,
     "metadata": {},
     "output_type": "execute_result"
    }
   ],
   "source": [
    "x_test"
   ]
  },
  {
   "cell_type": "code",
   "execution_count": 14,
   "id": "75293e9d",
   "metadata": {},
   "outputs": [
    {
     "data": {
      "text/plain": [
       "array([54.5 , 71.  , 72.19, 66.28, 65.9 , 71.2 , 60.  , 68.  , 54.  ,\n",
       "       65.08])"
      ]
     },
     "execution_count": 14,
     "metadata": {},
     "output_type": "execute_result"
    }
   ],
   "source": [
    "y_test"
   ]
  },
  {
   "cell_type": "markdown",
   "id": "f2c74053",
   "metadata": {},
   "source": [
    "# Impleting The Dataset into Linear Regression Model"
   ]
  },
  {
   "cell_type": "code",
   "execution_count": 18,
   "id": "e1dbbba0",
   "metadata": {},
   "outputs": [
    {
     "data": {
      "text/plain": [
       "LinearRegression()"
      ]
     },
     "execution_count": 18,
     "metadata": {},
     "output_type": "execute_result"
    }
   ],
   "source": [
    "from sklearn.linear_model import LinearRegression\n",
    "regressor = LinearRegression()\n",
    "regressor.fit(x_train, y_train)"
   ]
  },
  {
   "cell_type": "code",
   "execution_count": 39,
   "id": "1a373bd0",
   "metadata": {},
   "outputs": [
    {
     "data": {
      "text/plain": [
       "array([59.7214905 , 71.79601377, 64.55129981, 73.60719227, 65.15502597,\n",
       "       53.68422886, 53.68422886, 72.39973994, 61.53266899, 57.91031201,\n",
       "       54.28795503, 71.19228761, 54.89168119, 65.75875214, 62.74012132,\n",
       "       72.39973994, 56.70285968, 51.87305037, 59.7214905 , 64.55129981,\n",
       "       70.58856145])"
      ]
     },
     "execution_count": 39,
     "metadata": {},
     "output_type": "execute_result"
    }
   ],
   "source": [
    "y_pred = regressor.predict(x_train)\n",
    "y_pred"
   ]
  },
  {
   "cell_type": "markdown",
   "id": "85c91024",
   "metadata": {},
   "source": [
    "# Defiend Intercept and Co-Efficient"
   ]
  },
  {
   "cell_type": "code",
   "execution_count": 51,
   "id": "31593617",
   "metadata": {},
   "outputs": [
    {
     "data": {
      "text/plain": [
       "-36.87469570025804"
      ]
     },
     "execution_count": 51,
     "metadata": {},
     "output_type": "execute_result"
    }
   ],
   "source": [
    "regressor.intercept_"
   ]
  },
  {
   "cell_type": "code",
   "execution_count": 55,
   "id": "e3328888",
   "metadata": {},
   "outputs": [
    {
     "data": {
      "text/plain": [
       "array([60.37261637])"
      ]
     },
     "execution_count": 55,
     "metadata": {},
     "output_type": "execute_result"
    }
   ],
   "source": [
    "regressor.coef_"
   ]
  },
  {
   "cell_type": "markdown",
   "id": "702906fd",
   "metadata": {},
   "source": [
    "# Model Score With r2_Score"
   ]
  },
  {
   "cell_type": "code",
   "execution_count": 58,
   "id": "f3190531",
   "metadata": {},
   "outputs": [],
   "source": [
    "from sklearn.metrics import r2_score"
   ]
  },
  {
   "cell_type": "code",
   "execution_count": 61,
   "id": "1c78b407",
   "metadata": {},
   "outputs": [
    {
     "data": {
      "text/plain": [
       "78.80006947697726"
      ]
     },
     "execution_count": 61,
     "metadata": {},
     "output_type": "execute_result"
    }
   ],
   "source": [
    "score = r2_score(y_train, y_pred)\n",
    "score *100"
   ]
  },
  {
   "cell_type": "markdown",
   "id": "08f047cc",
   "metadata": {},
   "source": [
    "# Prediction for Outer Values"
   ]
  },
  {
   "cell_type": "code",
   "execution_count": 62,
   "id": "8f232694",
   "metadata": {},
   "outputs": [
    {
     "data": {
      "text/plain": [
       "array([58.51403817])"
      ]
     },
     "execution_count": 62,
     "metadata": {},
     "output_type": "execute_result"
    }
   ],
   "source": [
    "Outer_value = regressor.predict([[1.58]])\n",
    "Outer_value"
   ]
  },
  {
   "cell_type": "markdown",
   "id": "8c4239d9",
   "metadata": {},
   "source": [
    "# Predction With User Input"
   ]
  },
  {
   "cell_type": "code",
   "execution_count": 64,
   "id": "b4d46108",
   "metadata": {},
   "outputs": [
    {
     "name": "stdout",
     "output_type": "stream",
     "text": [
      "Enter Height : 1.58\n"
     ]
    },
    {
     "data": {
      "text/plain": [
       "array([58.51403817])"
      ]
     },
     "execution_count": 64,
     "metadata": {},
     "output_type": "execute_result"
    }
   ],
   "source": [
    "user_input = regressor.predict([[float(input(\"Enter Height : \"))]])\n",
    "user_input"
   ]
  },
  {
   "cell_type": "markdown",
   "id": "652ec9a2",
   "metadata": {},
   "source": [
    "# Data Visulaizetion"
   ]
  },
  {
   "cell_type": "markdown",
   "id": "bd5e214d",
   "metadata": {},
   "source": [
    "### Chart for Train Dataser"
   ]
  },
  {
   "cell_type": "code",
   "execution_count": 49,
   "id": "6d3d10a7",
   "metadata": {},
   "outputs": [
    {
     "data": {
      "image/png": "[encoded data removed]",
      "text/plain": [
       "<Figure size 432x288 with 1 Axes>"
      ]
     },
     "metadata": {
      "needs_background": "light"
     },
     "output_type": "display_data"
    }
   ],
   "source": [
    "plt.scatter(x_train, y_train, color = \"blue\", label = \"original data\")\n",
    "plt.plot(x_train, y_pred, color = \"red\", label = \"predicted data\")\n",
    "plt.legend()\n",
    "plt.grid()\n",
    "plt.xlabel(\"Height\")\n",
    "plt.ylabel(\"weight\")\n",
    "plt.title(\"Chart for Train Dataset\")\n",
    "plt.show()"
   ]
  },
  {
   "cell_type": "markdown",
   "id": "f5ffad8f",
   "metadata": {},
   "source": [
    "### Chart for Test Dataset"
   ]
  },
  {
   "cell_type": "code",
   "execution_count": 50,
   "id": "bdf9be5b",
   "metadata": {},
   "outputs": [
    {
     "data": {
      "image/png": "[encoded data removed]",
      "text/plain": [
       "<Figure size 432x288 with 1 Axes>"
      ]
     },
     "metadata": {
      "needs_background": "light"
     },
     "output_type": "display_data"
    }
   ],
   "source": [
    "plt.scatter(x_test, y_test, color = \"blue\", label = \"original data\")\n",
    "plt.plot(x_train, y_pred, color = \"red\", label = \"predicted data\")\n",
    "plt.legend()\n",
    "plt.grid()\n",
    "plt.xlabel(\"Height\")\n",
    "plt.ylabel(\"weight\")\n",
    "plt.title(\"Chart for Train Dataset\")\n",
    "plt.show()"
   ]
  }
 ],
 "metadata": {
  "kernelspec": {
   "display_name": "Python 3",
   "language": "python",
   "name": "python3"
  },
  "language_info": {
   "codemirror_mode": {
    "name": "ipython",
    "version": 3
   },
   "file_extension": ".py",
   "mimetype": "text/x-python",
   "name": "python",
   "nbconvert_exporter": "python",
   "pygments_lexer": "ipython3",
   "version": "3.8.8"
  }
 },
 "nbformat": 4,
 "nbformat_minor": 5
}
