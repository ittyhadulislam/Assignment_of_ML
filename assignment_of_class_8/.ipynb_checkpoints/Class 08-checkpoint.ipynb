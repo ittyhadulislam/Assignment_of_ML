{
 "cells": [
  {
   "cell_type": "code",
   "execution_count": 1,
   "id": "34e6f699",
   "metadata": {},
   "outputs": [],
   "source": [
    "import pandas as pd\n",
    "import numpy as np\n",
    "import seaborn as sns\n",
    "import matplotlib.pyplot as plt"
   ]
  },
  {
   "cell_type": "code",
   "execution_count": 2,
   "id": "d92ced4e",
   "metadata": {},
   "outputs": [],
   "source": [
    "df = pd.read_csv(\"heart failure.csv\")"
   ]
  },
  {
   "cell_type": "code",
   "execution_count": 3,
   "id": "90ecd031",
   "metadata": {},
   "outputs": [
    {
     "data": {
      "text/html": [
       "<div>\n",
       "<style scoped>\n",
       "    .dataframe tbody tr th:only-of-type {\n",
       "        vertical-align: middle;\n",
       "    }\n",
       "\n",
       "    .dataframe tbody tr th {\n",
       "        vertical-align: top;\n",
       "    }\n",
       "\n",
       "    .dataframe thead th {\n",
       "        text-align: right;\n",
       "    }\n",
       "</style>\n",
       "<table border=\"1\" class=\"dataframe\">\n",
       "  <thead>\n",
       "    <tr style=\"text-align: right;\">\n",
       "      <th></th>\n",
       "      <th>age</th>\n",
       "      <th>anaemia</th>\n",
       "      <th>creatinine_phosphokinase</th>\n",
       "      <th>diabetes</th>\n",
       "      <th>ejection_fraction</th>\n",
       "      <th>high_blood_pressure</th>\n",
       "      <th>platelets</th>\n",
       "      <th>serum_creatinine</th>\n",
       "      <th>serum_sodium</th>\n",
       "      <th>sex</th>\n",
       "      <th>smoking</th>\n",
       "      <th>time</th>\n",
       "      <th>DEATH_EVENT</th>\n",
       "    </tr>\n",
       "  </thead>\n",
       "  <tbody>\n",
       "    <tr>\n",
       "      <th>0</th>\n",
       "      <td>75.0</td>\n",
       "      <td>0</td>\n",
       "      <td>582</td>\n",
       "      <td>0.0</td>\n",
       "      <td>20</td>\n",
       "      <td>1</td>\n",
       "      <td>265000.00</td>\n",
       "      <td>1.9</td>\n",
       "      <td>130</td>\n",
       "      <td>1</td>\n",
       "      <td>0</td>\n",
       "      <td>4</td>\n",
       "      <td>1</td>\n",
       "    </tr>\n",
       "    <tr>\n",
       "      <th>1</th>\n",
       "      <td>55.0</td>\n",
       "      <td>0</td>\n",
       "      <td>7861</td>\n",
       "      <td>0.0</td>\n",
       "      <td>38</td>\n",
       "      <td>0</td>\n",
       "      <td>263358.03</td>\n",
       "      <td>1.1</td>\n",
       "      <td>136</td>\n",
       "      <td>1</td>\n",
       "      <td>0</td>\n",
       "      <td>6</td>\n",
       "      <td>1</td>\n",
       "    </tr>\n",
       "    <tr>\n",
       "      <th>2</th>\n",
       "      <td>65.0</td>\n",
       "      <td>0</td>\n",
       "      <td>146</td>\n",
       "      <td>0.0</td>\n",
       "      <td>20</td>\n",
       "      <td>0</td>\n",
       "      <td>162000.00</td>\n",
       "      <td>1.3</td>\n",
       "      <td>129</td>\n",
       "      <td>1</td>\n",
       "      <td>1</td>\n",
       "      <td>7</td>\n",
       "      <td>1</td>\n",
       "    </tr>\n",
       "    <tr>\n",
       "      <th>3</th>\n",
       "      <td>50.0</td>\n",
       "      <td>1</td>\n",
       "      <td>111</td>\n",
       "      <td>0.0</td>\n",
       "      <td>20</td>\n",
       "      <td>0</td>\n",
       "      <td>210000.00</td>\n",
       "      <td>1.9</td>\n",
       "      <td>137</td>\n",
       "      <td>1</td>\n",
       "      <td>0</td>\n",
       "      <td>7</td>\n",
       "      <td>1</td>\n",
       "    </tr>\n",
       "    <tr>\n",
       "      <th>4</th>\n",
       "      <td>65.0</td>\n",
       "      <td>1</td>\n",
       "      <td>160</td>\n",
       "      <td>1.0</td>\n",
       "      <td>20</td>\n",
       "      <td>0</td>\n",
       "      <td>327000.00</td>\n",
       "      <td>2.7</td>\n",
       "      <td>116</td>\n",
       "      <td>0</td>\n",
       "      <td>0</td>\n",
       "      <td>8</td>\n",
       "      <td>1</td>\n",
       "    </tr>\n",
       "  </tbody>\n",
       "</table>\n",
       "</div>"
      ],
      "text/plain": [
       "    age  anaemia  creatinine_phosphokinase  diabetes  ejection_fraction  \\\n",
       "0  75.0        0                       582       0.0                 20   \n",
       "1  55.0        0                      7861       0.0                 38   \n",
       "2  65.0        0                       146       0.0                 20   \n",
       "3  50.0        1                       111       0.0                 20   \n",
       "4  65.0        1                       160       1.0                 20   \n",
       "\n",
       "   high_blood_pressure  platelets  serum_creatinine  serum_sodium  sex  \\\n",
       "0                    1  265000.00               1.9           130    1   \n",
       "1                    0  263358.03               1.1           136    1   \n",
       "2                    0  162000.00               1.3           129    1   \n",
       "3                    0  210000.00               1.9           137    1   \n",
       "4                    0  327000.00               2.7           116    0   \n",
       "\n",
       "   smoking  time  DEATH_EVENT  \n",
       "0        0     4            1  \n",
       "1        0     6            1  \n",
       "2        1     7            1  \n",
       "3        0     7            1  \n",
       "4        0     8            1  "
      ]
     },
     "execution_count": 3,
     "metadata": {},
     "output_type": "execute_result"
    }
   ],
   "source": [
    "df.head()"
   ]
  },
  {
   "cell_type": "code",
   "execution_count": 4,
   "id": "61b23337",
   "metadata": {},
   "outputs": [
    {
     "data": {
      "text/plain": [
       "(299, 13)"
      ]
     },
     "execution_count": 4,
     "metadata": {},
     "output_type": "execute_result"
    }
   ],
   "source": [
    "df.shape"
   ]
  },
  {
   "cell_type": "code",
   "execution_count": 5,
   "id": "17fdf7a1",
   "metadata": {},
   "outputs": [
    {
     "data": {
      "text/plain": [
       "age                         0\n",
       "anaemia                     0\n",
       "creatinine_phosphokinase    0\n",
       "diabetes                    3\n",
       "ejection_fraction           0\n",
       "high_blood_pressure         0\n",
       "platelets                   0\n",
       "serum_creatinine            0\n",
       "serum_sodium                0\n",
       "sex                         0\n",
       "smoking                     0\n",
       "time                        0\n",
       "DEATH_EVENT                 0\n",
       "dtype: int64"
      ]
     },
     "execution_count": 5,
     "metadata": {},
     "output_type": "execute_result"
    }
   ],
   "source": [
    "df.isnull().sum()"
   ]
  },
  {
   "cell_type": "code",
   "execution_count": 6,
   "id": "56b8023e",
   "metadata": {},
   "outputs": [
    {
     "data": {
      "text/plain": [
       "0    203\n",
       "1     96\n",
       "Name: DEATH_EVENT, dtype: int64"
      ]
     },
     "execution_count": 6,
     "metadata": {},
     "output_type": "execute_result"
    }
   ],
   "source": [
    "df['DEATH_EVENT'].value_counts()"
   ]
  },
  {
   "cell_type": "code",
   "execution_count": 7,
   "id": "9dbccc2a",
   "metadata": {},
   "outputs": [
    {
     "data": {
      "text/plain": [
       "<AxesSubplot:xlabel='DEATH_EVENT', ylabel='count'>"
      ]
     },
     "execution_count": 7,
     "metadata": {},
     "output_type": "execute_result"
    },
    {
     "data": {
      "image/png": "[encoded data removed]",
      "text/plain": [
       "<Figure size 432x288 with 1 Axes>"
      ]
     },
     "metadata": {
      "needs_background": "light"
     },
     "output_type": "display_data"
    }
   ],
   "source": [
    "sns.countplot(x='DEATH_EVENT', data = df)"
   ]
  },
  {
   "cell_type": "code",
   "execution_count": 8,
   "id": "50d10bb1",
   "metadata": {},
   "outputs": [],
   "source": [
    "#Handle NaN Value\n",
    "mis = df['diabetes'].mode()"
   ]
  },
  {
   "cell_type": "code",
   "execution_count": 9,
   "id": "e73cd5da",
   "metadata": {},
   "outputs": [],
   "source": [
    "mis = 0"
   ]
  },
  {
   "cell_type": "code",
   "execution_count": 10,
   "id": "7582f47c",
   "metadata": {},
   "outputs": [],
   "source": [
    "df['diabetes'] = df['diabetes'].fillna(mis)"
   ]
  },
  {
   "cell_type": "code",
   "execution_count": 11,
   "id": "7a515886",
   "metadata": {},
   "outputs": [
    {
     "data": {
      "text/plain": [
       "age                         0\n",
       "anaemia                     0\n",
       "creatinine_phosphokinase    0\n",
       "diabetes                    0\n",
       "ejection_fraction           0\n",
       "high_blood_pressure         0\n",
       "platelets                   0\n",
       "serum_creatinine            0\n",
       "serum_sodium                0\n",
       "sex                         0\n",
       "smoking                     0\n",
       "time                        0\n",
       "DEATH_EVENT                 0\n",
       "dtype: int64"
      ]
     },
     "execution_count": 11,
     "metadata": {},
     "output_type": "execute_result"
    }
   ],
   "source": [
    "df.isnull().sum()"
   ]
  },
  {
   "cell_type": "code",
   "execution_count": 12,
   "id": "cc464d53",
   "metadata": {},
   "outputs": [
    {
     "data": {
      "text/plain": [
       "array([0., 1.])"
      ]
     },
     "execution_count": 12,
     "metadata": {},
     "output_type": "execute_result"
    }
   ],
   "source": [
    "df['diabetes'].unique()"
   ]
  },
  {
   "cell_type": "code",
   "execution_count": 13,
   "id": "26d782dd",
   "metadata": {},
   "outputs": [
    {
     "data": {
      "text/plain": [
       "<AxesSubplot:xlabel='diabetes', ylabel='count'>"
      ]
     },
     "execution_count": 13,
     "metadata": {},
     "output_type": "execute_result"
    },
    {
     "data": {
      "image/png": "[encoded data removed]",
      "text/plain": [
       "<Figure size 432x288 with 1 Axes>"
      ]
     },
     "metadata": {
      "needs_background": "light"
     },
     "output_type": "display_data"
    }
   ],
   "source": [
    "sns.countplot(x='diabetes', hue='DEATH_EVENT', data = df)"
   ]
  },
  {
   "cell_type": "code",
   "execution_count": 14,
   "id": "7b401da2",
   "metadata": {},
   "outputs": [],
   "source": [
    "x = df.drop('DEATH_EVENT', axis=1)"
   ]
  },
  {
   "cell_type": "code",
   "execution_count": 15,
   "id": "9bf5e153",
   "metadata": {},
   "outputs": [
    {
     "data": {
      "text/html": [
       "<div>\n",
       "<style scoped>\n",
       "    .dataframe tbody tr th:only-of-type {\n",
       "        vertical-align: middle;\n",
       "    }\n",
       "\n",
       "    .dataframe tbody tr th {\n",
       "        vertical-align: top;\n",
       "    }\n",
       "\n",
       "    .dataframe thead th {\n",
       "        text-align: right;\n",
       "    }\n",
       "</style>\n",
       "<table border=\"1\" class=\"dataframe\">\n",
       "  <thead>\n",
       "    <tr style=\"text-align: right;\">\n",
       "      <th></th>\n",
       "      <th>age</th>\n",
       "      <th>anaemia</th>\n",
       "      <th>creatinine_phosphokinase</th>\n",
       "      <th>diabetes</th>\n",
       "      <th>ejection_fraction</th>\n",
       "      <th>high_blood_pressure</th>\n",
       "      <th>platelets</th>\n",
       "      <th>serum_creatinine</th>\n",
       "      <th>serum_sodium</th>\n",
       "      <th>sex</th>\n",
       "      <th>smoking</th>\n",
       "      <th>time</th>\n",
       "    </tr>\n",
       "  </thead>\n",
       "  <tbody>\n",
       "    <tr>\n",
       "      <th>0</th>\n",
       "      <td>75.0</td>\n",
       "      <td>0</td>\n",
       "      <td>582</td>\n",
       "      <td>0.0</td>\n",
       "      <td>20</td>\n",
       "      <td>1</td>\n",
       "      <td>265000.00</td>\n",
       "      <td>1.9</td>\n",
       "      <td>130</td>\n",
       "      <td>1</td>\n",
       "      <td>0</td>\n",
       "      <td>4</td>\n",
       "    </tr>\n",
       "    <tr>\n",
       "      <th>1</th>\n",
       "      <td>55.0</td>\n",
       "      <td>0</td>\n",
       "      <td>7861</td>\n",
       "      <td>0.0</td>\n",
       "      <td>38</td>\n",
       "      <td>0</td>\n",
       "      <td>263358.03</td>\n",
       "      <td>1.1</td>\n",
       "      <td>136</td>\n",
       "      <td>1</td>\n",
       "      <td>0</td>\n",
       "      <td>6</td>\n",
       "    </tr>\n",
       "    <tr>\n",
       "      <th>2</th>\n",
       "      <td>65.0</td>\n",
       "      <td>0</td>\n",
       "      <td>146</td>\n",
       "      <td>0.0</td>\n",
       "      <td>20</td>\n",
       "      <td>0</td>\n",
       "      <td>162000.00</td>\n",
       "      <td>1.3</td>\n",
       "      <td>129</td>\n",
       "      <td>1</td>\n",
       "      <td>1</td>\n",
       "      <td>7</td>\n",
       "    </tr>\n",
       "    <tr>\n",
       "      <th>3</th>\n",
       "      <td>50.0</td>\n",
       "      <td>1</td>\n",
       "      <td>111</td>\n",
       "      <td>0.0</td>\n",
       "      <td>20</td>\n",
       "      <td>0</td>\n",
       "      <td>210000.00</td>\n",
       "      <td>1.9</td>\n",
       "      <td>137</td>\n",
       "      <td>1</td>\n",
       "      <td>0</td>\n",
       "      <td>7</td>\n",
       "    </tr>\n",
       "    <tr>\n",
       "      <th>4</th>\n",
       "      <td>65.0</td>\n",
       "      <td>1</td>\n",
       "      <td>160</td>\n",
       "      <td>1.0</td>\n",
       "      <td>20</td>\n",
       "      <td>0</td>\n",
       "      <td>327000.00</td>\n",
       "      <td>2.7</td>\n",
       "      <td>116</td>\n",
       "      <td>0</td>\n",
       "      <td>0</td>\n",
       "      <td>8</td>\n",
       "    </tr>\n",
       "  </tbody>\n",
       "</table>\n",
       "</div>"
      ],
      "text/plain": [
       "    age  anaemia  creatinine_phosphokinase  diabetes  ejection_fraction  \\\n",
       "0  75.0        0                       582       0.0                 20   \n",
       "1  55.0        0                      7861       0.0                 38   \n",
       "2  65.0        0                       146       0.0                 20   \n",
       "3  50.0        1                       111       0.0                 20   \n",
       "4  65.0        1                       160       1.0                 20   \n",
       "\n",
       "   high_blood_pressure  platelets  serum_creatinine  serum_sodium  sex  \\\n",
       "0                    1  265000.00               1.9           130    1   \n",
       "1                    0  263358.03               1.1           136    1   \n",
       "2                    0  162000.00               1.3           129    1   \n",
       "3                    0  210000.00               1.9           137    1   \n",
       "4                    0  327000.00               2.7           116    0   \n",
       "\n",
       "   smoking  time  \n",
       "0        0     4  \n",
       "1        0     6  \n",
       "2        1     7  \n",
       "3        0     7  \n",
       "4        0     8  "
      ]
     },
     "execution_count": 15,
     "metadata": {},
     "output_type": "execute_result"
    }
   ],
   "source": [
    "x.head()"
   ]
  },
  {
   "cell_type": "code",
   "execution_count": 16,
   "id": "c4eb9442",
   "metadata": {},
   "outputs": [],
   "source": [
    "y = df['DEATH_EVENT']"
   ]
  },
  {
   "cell_type": "code",
   "execution_count": 17,
   "id": "90e5ca50",
   "metadata": {},
   "outputs": [
    {
     "data": {
      "text/plain": [
       "0    1\n",
       "1    1\n",
       "2    1\n",
       "3    1\n",
       "4    1\n",
       "Name: DEATH_EVENT, dtype: int64"
      ]
     },
     "execution_count": 17,
     "metadata": {},
     "output_type": "execute_result"
    }
   ],
   "source": [
    "y.head()"
   ]
  },
  {
   "cell_type": "code",
   "execution_count": 18,
   "id": "aee4f3d9",
   "metadata": {},
   "outputs": [],
   "source": [
    "from sklearn.model_selection import train_test_split"
   ]
  },
  {
   "cell_type": "code",
   "execution_count": 19,
   "id": "1c16eeec",
   "metadata": {},
   "outputs": [],
   "source": [
    "# x , y\n",
    "xtrain, xtest, ytrain, ytest = train_test_split(x,y,train_size=.70, random_state=42) # 30% data for testing ; 70% for training"
   ]
  },
  {
   "cell_type": "code",
   "execution_count": 21,
   "id": "3e246477",
   "metadata": {},
   "outputs": [
    {
     "data": {
      "text/plain": [
       "(209, 12)"
      ]
     },
     "execution_count": 21,
     "metadata": {},
     "output_type": "execute_result"
    }
   ],
   "source": [
    "xtrain.shape"
   ]
  },
  {
   "cell_type": "code",
   "execution_count": 23,
   "id": "8200a6e9",
   "metadata": {},
   "outputs": [
    {
     "data": {
      "text/plain": [
       "(90,)"
      ]
     },
     "execution_count": 23,
     "metadata": {},
     "output_type": "execute_result"
    }
   ],
   "source": [
    "ytest.shape"
   ]
  },
  {
   "cell_type": "code",
   "execution_count": 24,
   "id": "ef8c86c1",
   "metadata": {},
   "outputs": [],
   "source": [
    "from sklearn.tree import DecisionTreeClassifier"
   ]
  },
  {
   "cell_type": "code",
   "execution_count": 25,
   "id": "b1d6300c",
   "metadata": {},
   "outputs": [],
   "source": [
    "clf = DecisionTreeClassifier()"
   ]
  },
  {
   "cell_type": "code",
   "execution_count": 26,
   "id": "c92708b7",
   "metadata": {},
   "outputs": [
    {
     "data": {
      "text/plain": [
       "DecisionTreeClassifier()"
      ]
     },
     "execution_count": 26,
     "metadata": {},
     "output_type": "execute_result"
    }
   ],
   "source": [
    "clf.fit(xtrain,ytrain) # clf.fit(x,y)"
   ]
  },
  {
   "cell_type": "code",
   "execution_count": 28,
   "id": "4d0783b3",
   "metadata": {},
   "outputs": [
    {
     "data": {
      "text/plain": [
       "281    0\n",
       "265    0\n",
       "164    1\n",
       "9      1\n",
       "77     0\n",
       "      ..\n",
       "132    0\n",
       "72     1\n",
       "15     1\n",
       "10     1\n",
       "157    0\n",
       "Name: DEATH_EVENT, Length: 90, dtype: int64"
      ]
     },
     "execution_count": 28,
     "metadata": {},
     "output_type": "execute_result"
    }
   ],
   "source": [
    "ytest"
   ]
  },
  {
   "cell_type": "code",
   "execution_count": 27,
   "id": "c04dde2c",
   "metadata": {},
   "outputs": [
    {
     "data": {
      "text/plain": [
       "array([1, 0, 0, 1, 0, 0, 0, 1, 0, 0, 0, 0, 0, 0, 1, 1, 0, 0, 1, 1, 0, 0,\n",
       "       1, 1, 1, 0, 0, 0, 0, 0, 1, 0, 1, 1, 1, 0, 0, 0, 0, 0, 1, 0, 0, 0,\n",
       "       1, 0, 1, 0, 0, 0, 1, 0, 0, 0, 0, 0, 0, 1, 0, 1, 1, 1, 0, 0, 1, 1,\n",
       "       0, 1, 0, 0, 0, 0, 0, 0, 1, 0, 0, 1, 1, 0, 0, 1, 0, 0, 0, 0, 1, 0,\n",
       "       0, 1], dtype=int64)"
      ]
     },
     "execution_count": 27,
     "metadata": {},
     "output_type": "execute_result"
    }
   ],
   "source": [
    "clf.predict(xtest)"
   ]
  },
  {
   "cell_type": "code",
   "execution_count": 30,
   "id": "3a2ff3b5",
   "metadata": {},
   "outputs": [
    {
     "data": {
      "text/plain": [
       "0.6888888888888889"
      ]
     },
     "execution_count": 30,
     "metadata": {},
     "output_type": "execute_result"
    }
   ],
   "source": [
    "clf.score(xtest,ytest)"
   ]
  },
  {
   "cell_type": "code",
   "execution_count": null,
   "id": "21ba526c",
   "metadata": {},
   "outputs": [],
   "source": [
    "Accuracy = 68.8 % "
   ]
  },
  {
   "cell_type": "code",
   "execution_count": 32,
   "id": "45e2b9c9",
   "metadata": {},
   "outputs": [],
   "source": [
    "from sklearn import tree"
   ]
  },
  {
   "cell_type": "code",
   "execution_count": 34,
   "id": "e0eb9f31",
   "metadata": {},
   "outputs": [
    {
     "data": {
      "text/plain": [
       "[Text(385.4605263157895, 774.63, 'X[11] <= 67.5\\ngini = 0.405\\nsamples = 209\\nvalue = [150, 59]'),\n",
       " Text(190.89473684210526, 693.09, 'X[4] <= 72.5\\ngini = 0.249\\nsamples = 48\\nvalue = [7, 41]'),\n",
       " Text(161.52631578947367, 611.55, 'X[2] <= 109.5\\ngini = 0.223\\nsamples = 47\\nvalue = [6, 41]'),\n",
       " Text(58.73684210526316, 530.01, 'X[11] <= 24.0\\ngini = 0.444\\nsamples = 12\\nvalue = [4, 8]'),\n",
       " Text(29.36842105263158, 448.47, 'gini = 0.0\\nsamples = 3\\nvalue = [3, 0]'),\n",
       " Text(88.10526315789474, 448.47, 'X[2] <= 101.5\\ngini = 0.198\\nsamples = 9\\nvalue = [1, 8]'),\n",
       " Text(58.73684210526316, 366.93, 'gini = 0.0\\nsamples = 8\\nvalue = [0, 8]'),\n",
       " Text(117.47368421052632, 366.93, 'gini = 0.0\\nsamples = 1\\nvalue = [1, 0]'),\n",
       " Text(264.3157894736842, 530.01, 'X[2] <= 1818.5\\ngini = 0.108\\nsamples = 35\\nvalue = [2, 33]'),\n",
       " Text(205.57894736842104, 448.47, 'X[4] <= 47.5\\ngini = 0.061\\nsamples = 32\\nvalue = [1, 31]'),\n",
       " Text(176.21052631578948, 366.93, 'gini = 0.0\\nsamples = 28\\nvalue = [0, 28]'),\n",
       " Text(234.94736842105263, 366.93, 'X[9] <= 0.5\\ngini = 0.375\\nsamples = 4\\nvalue = [1, 3]'),\n",
       " Text(205.57894736842104, 285.39, 'gini = 0.0\\nsamples = 3\\nvalue = [0, 3]'),\n",
       " Text(264.3157894736842, 285.39, 'gini = 0.0\\nsamples = 1\\nvalue = [1, 0]'),\n",
       " Text(323.05263157894734, 448.47, 'X[2] <= 3310.0\\ngini = 0.444\\nsamples = 3\\nvalue = [1, 2]'),\n",
       " Text(293.6842105263158, 366.93, 'gini = 0.0\\nsamples = 1\\nvalue = [1, 0]'),\n",
       " Text(352.42105263157896, 366.93, 'gini = 0.0\\nsamples = 2\\nvalue = [0, 2]'),\n",
       " Text(220.26315789473685, 611.55, 'gini = 0.0\\nsamples = 1\\nvalue = [1, 0]'),\n",
       " Text(580.0263157894736, 693.09, 'X[7] <= 1.815\\ngini = 0.199\\nsamples = 161\\nvalue = [143, 18]'),\n",
       " Text(469.89473684210526, 611.55, 'X[6] <= 90000.0\\ngini = 0.116\\nsamples = 146\\nvalue = [137, 9]'),\n",
       " Text(411.1578947368421, 530.01, 'X[9] <= 0.5\\ngini = 0.444\\nsamples = 3\\nvalue = [1, 2]'),\n",
       " Text(381.7894736842105, 448.47, 'gini = 0.0\\nsamples = 2\\nvalue = [0, 2]'),\n",
       " Text(440.5263157894737, 448.47, 'gini = 0.0\\nsamples = 1\\nvalue = [1, 0]'),\n",
       " Text(528.6315789473684, 530.01, 'X[6] <= 582000.0\\ngini = 0.093\\nsamples = 143\\nvalue = [136, 7]'),\n",
       " Text(499.2631578947368, 448.47, 'X[4] <= 27.5\\ngini = 0.081\\nsamples = 142\\nvalue = [136, 6]'),\n",
       " Text(425.8421052631579, 366.93, 'X[11] <= 210.5\\ngini = 0.375\\nsamples = 16\\nvalue = [12, 4]'),\n",
       " Text(367.10526315789474, 285.39, 'X[11] <= 76.0\\ngini = 0.26\\nsamples = 13\\nvalue = [11, 2]'),\n",
       " Text(337.7368421052632, 203.85000000000002, 'gini = 0.0\\nsamples = 1\\nvalue = [0, 1]'),\n",
       " Text(396.4736842105263, 203.85000000000002, 'X[10] <= 0.5\\ngini = 0.153\\nsamples = 12\\nvalue = [11, 1]'),\n",
       " Text(367.10526315789474, 122.31000000000006, 'gini = 0.0\\nsamples = 9\\nvalue = [9, 0]'),\n",
       " Text(425.8421052631579, 122.31000000000006, 'X[6] <= 227000.0\\ngini = 0.444\\nsamples = 3\\nvalue = [2, 1]'),\n",
       " Text(396.4736842105263, 40.770000000000095, 'gini = 0.0\\nsamples = 2\\nvalue = [2, 0]'),\n",
       " Text(455.2105263157895, 40.770000000000095, 'gini = 0.0\\nsamples = 1\\nvalue = [0, 1]'),\n",
       " Text(484.57894736842104, 285.39, 'X[0] <= 50.0\\ngini = 0.444\\nsamples = 3\\nvalue = [1, 2]'),\n",
       " Text(455.2105263157895, 203.85000000000002, 'gini = 0.0\\nsamples = 1\\nvalue = [1, 0]'),\n",
       " Text(513.9473684210526, 203.85000000000002, 'gini = 0.0\\nsamples = 2\\nvalue = [0, 2]'),\n",
       " Text(572.6842105263158, 366.93, 'X[0] <= 79.5\\ngini = 0.031\\nsamples = 126\\nvalue = [124, 2]'),\n",
       " Text(543.3157894736842, 285.39, 'gini = 0.0\\nsamples = 121\\nvalue = [121, 0]'),\n",
       " Text(602.0526315789474, 285.39, 'X[8] <= 135.5\\ngini = 0.48\\nsamples = 5\\nvalue = [3, 2]'),\n",
       " Text(572.6842105263158, 203.85000000000002, 'gini = 0.0\\nsamples = 2\\nvalue = [0, 2]'),\n",
       " Text(631.421052631579, 203.85000000000002, 'gini = 0.0\\nsamples = 3\\nvalue = [3, 0]'),\n",
       " Text(558.0, 448.47, 'gini = 0.0\\nsamples = 1\\nvalue = [0, 1]'),\n",
       " Text(690.1578947368421, 611.55, 'X[8] <= 132.5\\ngini = 0.48\\nsamples = 15\\nvalue = [6, 9]'),\n",
       " Text(660.7894736842105, 530.01, 'gini = 0.0\\nsamples = 3\\nvalue = [3, 0]'),\n",
       " Text(719.5263157894736, 530.01, 'X[6] <= 306679.016\\ngini = 0.375\\nsamples = 12\\nvalue = [3, 9]'),\n",
       " Text(660.7894736842105, 448.47, 'X[2] <= 62.5\\ngini = 0.198\\nsamples = 9\\nvalue = [1, 8]'),\n",
       " Text(631.421052631579, 366.93, 'gini = 0.0\\nsamples = 1\\nvalue = [1, 0]'),\n",
       " Text(690.1578947368421, 366.93, 'gini = 0.0\\nsamples = 8\\nvalue = [0, 8]'),\n",
       " Text(778.2631578947369, 448.47, 'X[2] <= 1239.0\\ngini = 0.444\\nsamples = 3\\nvalue = [2, 1]'),\n",
       " Text(748.8947368421052, 366.93, 'gini = 0.0\\nsamples = 2\\nvalue = [2, 0]'),\n",
       " Text(807.6315789473684, 366.93, 'gini = 0.0\\nsamples = 1\\nvalue = [0, 1]')]"
      ]
     },
     "execution_count": 34,
     "metadata": {},
     "output_type": "execute_result"
    },
    {
     "data": {
      "image/png": "[encoded data removed]",
      "text/plain": [
       "<Figure size 1080x1080 with 1 Axes>"
      ]
     },
     "metadata": {
      "needs_background": "light"
     },
     "output_type": "display_data"
    }
   ],
   "source": [
    "plt.figure(figsize=(15,15))\n",
    "tree.plot_tree(clf,filled=True,rounded=True)"
   ]
  },
  {
   "cell_type": "code",
   "execution_count": 35,
   "id": "7cb7a3ef",
   "metadata": {},
   "outputs": [],
   "source": [
    "text = tree.export_text(clf)"
   ]
  },
  {
   "cell_type": "code",
   "execution_count": 36,
   "id": "3911e71a",
   "metadata": {},
   "outputs": [
    {
     "data": {
      "text/plain": [
       "'|--- feature_11 <= 67.50\\n|   |--- feature_4 <= 72.50\\n|   |   |--- feature_2 <= 109.50\\n|   |   |   |--- feature_11 <= 24.00\\n|   |   |   |   |--- class: 0\\n|   |   |   |--- feature_11 >  24.00\\n|   |   |   |   |--- feature_2 <= 101.50\\n|   |   |   |   |   |--- class: 1\\n|   |   |   |   |--- feature_2 >  101.50\\n|   |   |   |   |   |--- class: 0\\n|   |   |--- feature_2 >  109.50\\n|   |   |   |--- feature_2 <= 1818.50\\n|   |   |   |   |--- feature_4 <= 47.50\\n|   |   |   |   |   |--- class: 1\\n|   |   |   |   |--- feature_4 >  47.50\\n|   |   |   |   |   |--- feature_9 <= 0.50\\n|   |   |   |   |   |   |--- class: 1\\n|   |   |   |   |   |--- feature_9 >  0.50\\n|   |   |   |   |   |   |--- class: 0\\n|   |   |   |--- feature_2 >  1818.50\\n|   |   |   |   |--- feature_2 <= 3310.00\\n|   |   |   |   |   |--- class: 0\\n|   |   |   |   |--- feature_2 >  3310.00\\n|   |   |   |   |   |--- class: 1\\n|   |--- feature_4 >  72.50\\n|   |   |--- class: 0\\n|--- feature_11 >  67.50\\n|   |--- feature_7 <= 1.81\\n|   |   |--- feature_6 <= 90000.00\\n|   |   |   |--- feature_9 <= 0.50\\n|   |   |   |   |--- class: 1\\n|   |   |   |--- feature_9 >  0.50\\n|   |   |   |   |--- class: 0\\n|   |   |--- feature_6 >  90000.00\\n|   |   |   |--- feature_6 <= 582000.00\\n|   |   |   |   |--- feature_4 <= 27.50\\n|   |   |   |   |   |--- feature_11 <= 210.50\\n|   |   |   |   |   |   |--- feature_11 <= 76.00\\n|   |   |   |   |   |   |   |--- class: 1\\n|   |   |   |   |   |   |--- feature_11 >  76.00\\n|   |   |   |   |   |   |   |--- feature_10 <= 0.50\\n|   |   |   |   |   |   |   |   |--- class: 0\\n|   |   |   |   |   |   |   |--- feature_10 >  0.50\\n|   |   |   |   |   |   |   |   |--- feature_6 <= 227000.00\\n|   |   |   |   |   |   |   |   |   |--- class: 0\\n|   |   |   |   |   |   |   |   |--- feature_6 >  227000.00\\n|   |   |   |   |   |   |   |   |   |--- class: 1\\n|   |   |   |   |   |--- feature_11 >  210.50\\n|   |   |   |   |   |   |--- feature_0 <= 50.00\\n|   |   |   |   |   |   |   |--- class: 0\\n|   |   |   |   |   |   |--- feature_0 >  50.00\\n|   |   |   |   |   |   |   |--- class: 1\\n|   |   |   |   |--- feature_4 >  27.50\\n|   |   |   |   |   |--- feature_0 <= 79.50\\n|   |   |   |   |   |   |--- class: 0\\n|   |   |   |   |   |--- feature_0 >  79.50\\n|   |   |   |   |   |   |--- feature_8 <= 135.50\\n|   |   |   |   |   |   |   |--- class: 1\\n|   |   |   |   |   |   |--- feature_8 >  135.50\\n|   |   |   |   |   |   |   |--- class: 0\\n|   |   |   |--- feature_6 >  582000.00\\n|   |   |   |   |--- class: 1\\n|   |--- feature_7 >  1.81\\n|   |   |--- feature_8 <= 132.50\\n|   |   |   |--- class: 0\\n|   |   |--- feature_8 >  132.50\\n|   |   |   |--- feature_6 <= 306679.02\\n|   |   |   |   |--- feature_2 <= 62.50\\n|   |   |   |   |   |--- class: 0\\n|   |   |   |   |--- feature_2 >  62.50\\n|   |   |   |   |   |--- class: 1\\n|   |   |   |--- feature_6 >  306679.02\\n|   |   |   |   |--- feature_2 <= 1239.00\\n|   |   |   |   |   |--- class: 0\\n|   |   |   |   |--- feature_2 >  1239.00\\n|   |   |   |   |   |--- class: 1\\n'"
      ]
     },
     "execution_count": 36,
     "metadata": {},
     "output_type": "execute_result"
    }
   ],
   "source": [
    "text"
   ]
  },
  {
   "cell_type": "code",
   "execution_count": null,
   "id": "3655cceb",
   "metadata": {},
   "outputs": [],
   "source": []
  }
 ],
 "metadata": {
  "kernelspec": {
   "display_name": "Python 3",
   "language": "python",
   "name": "python3"
  },
  "language_info": {
   "codemirror_mode": {
    "name": "ipython",
    "version": 3
   },
   "file_extension": ".py",
   "mimetype": "text/x-python",
   "name": "python",
   "nbconvert_exporter": "python",
   "pygments_lexer": "ipython3",
   "version": "3.8.8"
  }
 },
 "nbformat": 4,
 "nbformat_minor": 5
}
